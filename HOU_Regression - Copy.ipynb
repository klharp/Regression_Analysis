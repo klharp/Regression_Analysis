{
 "cells": [
  {
   "cell_type": "markdown",
   "metadata": {},
   "source": [
    "# Houston, TX Regressions\n",
    "Regressions to compare E+ v9.2 and v9.5 outputs "
   ]
  },
  {
   "cell_type": "code",
   "execution_count": 63,
   "metadata": {},
   "outputs": [],
   "source": [
    "# Dependencies\n",
    "import pandas as pd\n",
    "import os\n",
    "from matplotlib import pyplot as plt\n",
    "from sklearn import datasets\n",
    "from sklearn.metrics import mean_squared_error, r2_score, mean_absolute_error\n",
    "import numpy as np\n",
    "from sklearn.model_selection import train_test_split\n",
    "from sklearn.linear_model import LinearRegression"
   ]
  },
  {
   "cell_type": "markdown",
   "metadata": {},
   "source": [
    "---\n",
    "\n",
    "## Monthly"
   ]
  },
  {
   "cell_type": "code",
   "execution_count": 6,
   "metadata": {},
   "outputs": [],
   "source": [
    "#hou_monthly95=pd.read_csv(\"../Regression_Scraper_Output/hou_monthly95_data.csv\")"
   ]
  },
  {
   "cell_type": "code",
   "execution_count": 7,
   "metadata": {},
   "outputs": [],
   "source": [
    "#hou_monthly92=pd.read_csv(\"../Regression_Scraper_Output/hou_monthly92_data.csv\")"
   ]
  },
  {
   "cell_type": "markdown",
   "metadata": {},
   "source": [
    "------\n",
    "\n",
    "## Hourly Data"
   ]
  },
  {
   "cell_type": "code",
   "execution_count": 33,
   "metadata": {},
   "outputs": [],
   "source": [
    "# Import the scraped data\n",
    "hou_hourly95=pd.read_csv(\"../Regression_Scraper_Output/hou_hourly95_data.csv\")\n",
    "#hou_hourly95"
   ]
  },
  {
   "cell_type": "code",
   "execution_count": 23,
   "metadata": {},
   "outputs": [],
   "source": [
    "hou_hourly92=pd.read_csv(\"../Regression_Scraper_Output/hou_hourly92_data.csv\")\n",
    "#hou_hourly92"
   ]
  },
  {
   "cell_type": "code",
   "execution_count": 24,
   "metadata": {},
   "outputs": [],
   "source": [
    "performance=pd.read_csv(\"data/para_values.csv\")\n",
    "#performance"
   ]
  },
  {
   "cell_type": "code",
   "execution_count": 133,
   "metadata": {},
   "outputs": [
    {
     "data": {
      "text/plain": [
       "Scenario                 int64\n",
       "Date_Time               object\n",
       "Illuminance(lux)       float64\n",
       "FanEnergy(kBtu)        float64\n",
       "HeatingEnergy(kBtu)    float64\n",
       "CoolingEnergy(kBtu)    float64\n",
       "FanCost($)             float64\n",
       "HeatingCost($)         float64\n",
       "CoolingCost($)         float64\n",
       "Month                    int64\n",
       "Day                      int64\n",
       "Hour                    object\n",
       "HourlyEnergy(kBtu)     float64\n",
       "HourlyCost($)          float64\n",
       "U-factor               float64\n",
       "SHGC                   float64\n",
       "dtype: object"
      ]
     },
     "execution_count": 133,
     "metadata": {},
     "output_type": "execute_result"
    }
   ],
   "source": [
    "# Merge the csv with the with the window performance attributes\n",
    "\n",
    "hou_hourly95_all = pd.merge(hou_hourly95, performance, on=\"Scenario\")\n",
    "hou_hourly95_all.dtypes"
   ]
  },
  {
   "cell_type": "code",
   "execution_count": 30,
   "metadata": {},
   "outputs": [],
   "source": [
    "hou_hourly92_all = pd.merge(hou_hourly92, performance, on=\"Scenario\")\n",
    "#hou_hourly92_all"
   ]
  },
  {
   "cell_type": "markdown",
   "metadata": {},
   "source": [
    "------\n",
    "\n",
    "## Scatter Plots"
   ]
  },
  {
   "cell_type": "code",
   "execution_count": 53,
   "metadata": {},
   "outputs": [
    {
     "data": {
      "text/plain": [
       "<function matplotlib.pyplot.show(*args, **kw)>"
      ]
     },
     "execution_count": 53,
     "metadata": {},
     "output_type": "execute_result"
    },
    {
     "data": {
      "image/png": "[encoded data removed]",
      "text/plain": [
       "<Figure size 432x288 with 1 Axes>"
      ]
     },
     "metadata": {
      "needs_background": "light"
     },
     "output_type": "display_data"
    }
   ],
   "source": [
    "# 95 Hourly energy vs U-factor\n",
    "plt.scatter(hou_hourly95_all.iloc[:,14], hou_hourly95_all.iloc[:,12])\n",
    "plt.xlabel(\"U-factor\")\n",
    "plt.ylabel(\"Hourly Energy (kbtu)\")\n",
    "plt.show"
   ]
  },
  {
   "cell_type": "code",
   "execution_count": 51,
   "metadata": {},
   "outputs": [
    {
     "data": {
      "text/plain": [
       "<function matplotlib.pyplot.show(*args, **kw)>"
      ]
     },
     "execution_count": 51,
     "metadata": {},
     "output_type": "execute_result"
    },
    {
     "data": {
      "image/png": "[encoded data removed]",
      "text/plain": [
       "<Figure size 432x288 with 1 Axes>"
      ]
     },
     "metadata": {
      "needs_background": "light"
     },
     "output_type": "display_data"
    }
   ],
   "source": [
    "# 95 Hourly cost vs U-factor\n",
    "plt.scatter(hou_hourly95_all.iloc[:,14], hou_hourly95_all.iloc[:,13])\n",
    "plt.xlabel(\"U-factor\")\n",
    "plt.ylabel(\"Hourly Cost ($)\")\n",
    "plt.show"
   ]
  },
  {
   "cell_type": "markdown",
   "metadata": {},
   "source": [
    "## Train the 95 energy model"
   ]
  },
  {
   "cell_type": "code",
   "execution_count": 141,
   "metadata": {},
   "outputs": [],
   "source": [
    "# Drop unwanted columns, keep energy, U and SHGC\n",
    "hou_hourly95_clean = hou_hourly95_all[[\"HourlyEnergy(kBtu)\", \"U-factor\", \"SHGC\"]]"
   ]
  },
  {
   "cell_type": "code",
   "execution_count": 142,
   "metadata": {},
   "outputs": [
    {
     "data": {
      "text/html": [
       "<div>\n",
       "<style scoped>\n",
       "    .dataframe tbody tr th:only-of-type {\n",
       "        vertical-align: middle;\n",
       "    }\n",
       "\n",
       "    .dataframe tbody tr th {\n",
       "        vertical-align: top;\n",
       "    }\n",
       "\n",
       "    .dataframe thead th {\n",
       "        text-align: right;\n",
       "    }\n",
       "</style>\n",
       "<table border=\"1\" class=\"dataframe\">\n",
       "  <thead>\n",
       "    <tr style=\"text-align: right;\">\n",
       "      <th></th>\n",
       "      <th>HourlyEnergy(kBtu)</th>\n",
       "    </tr>\n",
       "  </thead>\n",
       "  <tbody>\n",
       "    <tr>\n",
       "      <th>0</th>\n",
       "      <td>14.35</td>\n",
       "    </tr>\n",
       "    <tr>\n",
       "      <th>1</th>\n",
       "      <td>15.77</td>\n",
       "    </tr>\n",
       "    <tr>\n",
       "      <th>2</th>\n",
       "      <td>17.02</td>\n",
       "    </tr>\n",
       "    <tr>\n",
       "      <th>3</th>\n",
       "      <td>18.22</td>\n",
       "    </tr>\n",
       "    <tr>\n",
       "      <th>4</th>\n",
       "      <td>18.80</td>\n",
       "    </tr>\n",
       "    <tr>\n",
       "      <th>...</th>\n",
       "      <td>...</td>\n",
       "    </tr>\n",
       "    <tr>\n",
       "      <th>429235</th>\n",
       "      <td>0.00</td>\n",
       "    </tr>\n",
       "    <tr>\n",
       "      <th>429236</th>\n",
       "      <td>0.00</td>\n",
       "    </tr>\n",
       "    <tr>\n",
       "      <th>429237</th>\n",
       "      <td>0.74</td>\n",
       "    </tr>\n",
       "    <tr>\n",
       "      <th>429238</th>\n",
       "      <td>6.19</td>\n",
       "    </tr>\n",
       "    <tr>\n",
       "      <th>429239</th>\n",
       "      <td>9.20</td>\n",
       "    </tr>\n",
       "  </tbody>\n",
       "</table>\n",
       "<p>429240 rows × 1 columns</p>\n",
       "</div>"
      ],
      "text/plain": [
       "        HourlyEnergy(kBtu)\n",
       "0                    14.35\n",
       "1                    15.77\n",
       "2                    17.02\n",
       "3                    18.22\n",
       "4                    18.80\n",
       "...                    ...\n",
       "429235                0.00\n",
       "429236                0.00\n",
       "429237                0.74\n",
       "429238                6.19\n",
       "429239                9.20\n",
       "\n",
       "[429240 rows x 1 columns]"
      ]
     },
     "execution_count": 142,
     "metadata": {},
     "output_type": "execute_result"
    }
   ],
   "source": [
    "# Define X and Y\n",
    "\n",
    "X95 = hou_hourly95_clean.drop(\"HourlyEnergy(kBtu)\", axis = 1)\n",
    "y95 = hou_hourly95_clean[[\"HourlyEnergy(kBtu)\"]]\n",
    "\n",
    "y95"
   ]
  },
  {
   "cell_type": "code",
   "execution_count": 143,
   "metadata": {},
   "outputs": [],
   "source": [
    "#Train, test, split\n",
    "X95_train, X95_test, y95_train, y95_test = train_test_split(X95, y95, test_size=.2, random_state=1)"
   ]
  },
  {
   "cell_type": "code",
   "execution_count": 144,
   "metadata": {},
   "outputs": [],
   "source": [
    "# Create an instance\n",
    "regression_model = LinearRegression()"
   ]
  },
  {
   "cell_type": "code",
   "execution_count": 145,
   "metadata": {},
   "outputs": [
    {
     "data": {
      "text/plain": [
       "LinearRegression()"
      ]
     },
     "execution_count": 145,
     "metadata": {},
     "output_type": "execute_result"
    }
   ],
   "source": [
    "# Fit the model\n",
    "regression_model.fit(X95_train, y95_train)"
   ]
  },
  {
   "cell_type": "code",
   "execution_count": 146,
   "metadata": {},
   "outputs": [
    {
     "name": "stdout",
     "output_type": "stream",
     "text": [
      "The intercept for the model is 8.415e-05\n",
      "----------------------------------------------------------------------------------------------------\n",
      "The coefficient for U-factor is 1.7181760067019207\n",
      "The coefficient for SHGC is 1.512926322466252\n"
     ]
    }
   ],
   "source": [
    "# Get the intercept and the coefficients\n",
    "intercept95 = regression_model.intercept_[0]\n",
    "coef95 = regression_model.coef_[0]\n",
    "\n",
    "print(\"The intercept for the model is {:.4}\".format(intercept))\n",
    "print(\"-\"*100)\n",
    "\n",
    "#loop through and print the data\n",
    "for cf in zip(X95.columns, coef95):\n",
    "    print(\"The coefficient for {} is {:2}\".format(cf[0],cf[1]))"
   ]
  },
  {
   "cell_type": "markdown",
   "metadata": {},
   "source": [
    "## Train the 92 model"
   ]
  },
  {
   "cell_type": "code",
   "execution_count": 154,
   "metadata": {},
   "outputs": [],
   "source": [
    "# Drop unwanted columns, keep energy, U and SHGC\n",
    "hou_hourly92_clean = hou_hourly92_all[[\"HourlyEnergy(kBtu)\", \"U-factor\", \"SHGC\"]]"
   ]
  },
  {
   "cell_type": "code",
   "execution_count": 156,
   "metadata": {},
   "outputs": [
    {
     "data": {
      "text/html": [
       "<div>\n",
       "<style scoped>\n",
       "    .dataframe tbody tr th:only-of-type {\n",
       "        vertical-align: middle;\n",
       "    }\n",
       "\n",
       "    .dataframe tbody tr th {\n",
       "        vertical-align: top;\n",
       "    }\n",
       "\n",
       "    .dataframe thead th {\n",
       "        text-align: right;\n",
       "    }\n",
       "</style>\n",
       "<table border=\"1\" class=\"dataframe\">\n",
       "  <thead>\n",
       "    <tr style=\"text-align: right;\">\n",
       "      <th></th>\n",
       "      <th>HourlyEnergy(kBtu)</th>\n",
       "    </tr>\n",
       "  </thead>\n",
       "  <tbody>\n",
       "    <tr>\n",
       "      <th>0</th>\n",
       "      <td>14.39</td>\n",
       "    </tr>\n",
       "    <tr>\n",
       "      <th>1</th>\n",
       "      <td>15.80</td>\n",
       "    </tr>\n",
       "    <tr>\n",
       "      <th>2</th>\n",
       "      <td>17.04</td>\n",
       "    </tr>\n",
       "    <tr>\n",
       "      <th>3</th>\n",
       "      <td>18.23</td>\n",
       "    </tr>\n",
       "    <tr>\n",
       "      <th>4</th>\n",
       "      <td>18.80</td>\n",
       "    </tr>\n",
       "    <tr>\n",
       "      <th>...</th>\n",
       "      <td>...</td>\n",
       "    </tr>\n",
       "    <tr>\n",
       "      <th>429235</th>\n",
       "      <td>0.00</td>\n",
       "    </tr>\n",
       "    <tr>\n",
       "      <th>429236</th>\n",
       "      <td>0.00</td>\n",
       "    </tr>\n",
       "    <tr>\n",
       "      <th>429237</th>\n",
       "      <td>0.74</td>\n",
       "    </tr>\n",
       "    <tr>\n",
       "      <th>429238</th>\n",
       "      <td>6.21</td>\n",
       "    </tr>\n",
       "    <tr>\n",
       "      <th>429239</th>\n",
       "      <td>9.21</td>\n",
       "    </tr>\n",
       "  </tbody>\n",
       "</table>\n",
       "<p>429240 rows × 1 columns</p>\n",
       "</div>"
      ],
      "text/plain": [
       "        HourlyEnergy(kBtu)\n",
       "0                    14.39\n",
       "1                    15.80\n",
       "2                    17.04\n",
       "3                    18.23\n",
       "4                    18.80\n",
       "...                    ...\n",
       "429235                0.00\n",
       "429236                0.00\n",
       "429237                0.74\n",
       "429238                6.21\n",
       "429239                9.21\n",
       "\n",
       "[429240 rows x 1 columns]"
      ]
     },
     "execution_count": 156,
     "metadata": {},
     "output_type": "execute_result"
    }
   ],
   "source": [
    "# Define X and Y\n",
    "\n",
    "X92 = hou_hourly92_clean.drop(\"HourlyEnergy(kBtu)\", axis = 1)\n",
    "y92 = hou_hourly92_clean[[\"HourlyEnergy(kBtu)\"]]\n",
    "\n",
    "y92"
   ]
  },
  {
   "cell_type": "code",
   "execution_count": 157,
   "metadata": {},
   "outputs": [],
   "source": [
    "#Train, test, split\n",
    "X92_train, X92_test, y92_train, y92_test = train_test_split(X92, y92, test_size=.2, random_state=1)"
   ]
  },
  {
   "cell_type": "code",
   "execution_count": 158,
   "metadata": {},
   "outputs": [],
   "source": [
    "# Create an instance\n",
    "regression_model = LinearRegression()"
   ]
  },
  {
   "cell_type": "code",
   "execution_count": 159,
   "metadata": {},
   "outputs": [
    {
     "data": {
      "text/plain": [
       "LinearRegression()"
      ]
     },
     "execution_count": 159,
     "metadata": {},
     "output_type": "execute_result"
    }
   ],
   "source": [
    "# Fit the model\n",
    "regression_model.fit(X92_train, y92_train)"
   ]
  },
  {
   "cell_type": "code",
   "execution_count": 160,
   "metadata": {},
   "outputs": [
    {
     "name": "stdout",
     "output_type": "stream",
     "text": [
      "The intercept for the model is 8.415e-05\n",
      "----------------------------------------------------------------------------------------------------\n",
      "The coefficient for U-factor is 1.7888466758747694\n",
      "The coefficient for SHGC is 1.4096867965705093\n"
     ]
    }
   ],
   "source": [
    "# Get the intercept and the coefficients\n",
    "intercept92 = regression_model.intercept_[0]\n",
    "coef92 = regression_model.coef_[0]\n",
    "\n",
    "print(\"The intercept for the model is {:.4}\".format(intercept))\n",
    "print(\"-\"*100)\n",
    "\n",
    "#loop through and print the data\n",
    "for cf in zip(X92.columns, coef92):\n",
    "    print(\"The coefficient for {} is {:2}\".format(cf[0],cf[1]))"
   ]
  },
  {
   "cell_type": "code",
   "execution_count": null,
   "metadata": {},
   "outputs": [],
   "source": []
  }
 ],
 "metadata": {
  "kernelspec": {
   "display_name": "Python 3",
   "language": "python",
   "name": "python3"
  },
  "language_info": {
   "codemirror_mode": {
    "name": "ipython",
    "version": 3
   },
   "file_extension": ".py",
   "mimetype": "text/x-python",
   "name": "python",
   "nbconvert_exporter": "python",
   "pygments_lexer": "ipython3",
   "version": "3.6.10"
  },
  "varInspector": {
   "cols": {
    "lenName": 16,
    "lenType": 16,
    "lenVar": 40
   },
   "kernels_config": {
    "python": {
     "delete_cmd_postfix": "",
     "delete_cmd_prefix": "del ",
     "library": "var_list.py",
     "varRefreshCmd": "print(var_dic_list())"
    },
    "r": {
     "delete_cmd_postfix": ") ",
     "delete_cmd_prefix": "rm(",
     "library": "var_list.r",
     "varRefreshCmd": "cat(var_dic_list()) "
    }
   },
   "types_to_exclude": [
    "module",
    "function",
    "builtin_function_or_method",
    "instance",
    "_Feature"
   ],
   "window_display": false
  }
 },
 "nbformat": 4,
 "nbformat_minor": 2
}
