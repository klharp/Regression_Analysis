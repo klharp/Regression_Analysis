{
 "cells": [
  {
   "cell_type": "markdown",
   "metadata": {},
   "source": [
    "# Houston, TX Simulations\n",
    "Need to add Scenario field to CSV files.<br>\n",
    "8760 rows per simulation<br>\n",
    "49 files "
   ]
  },
  {
   "cell_type": "code",
   "execution_count": 1,
   "metadata": {},
   "outputs": [],
   "source": [
    "# Dependencies\n",
    "import pandas as pd\n",
    "import os\n",
    "import numpy as np\n",
    "import pprint\n",
    "from pathlib import Path\n",
    "from datetime import datetime"
   ]
  },
  {
   "cell_type": "markdown",
   "metadata": {},
   "source": [
    "## Energy Conversions\n",
    "\n",
    "As per E* Documentation<br>\n",
    "\n",
    "Joules --> kBtu (multiply by .00000094781712)<br>\n",
    "Joules --> kWh (multiply by .000000277777778) or (divide by 3600000)<br>\n",
    "Joules --> therms (multiply by .0000000094781712<br>\n",
    "\n",
    "foot-candles --> Lux (multiply by 10.7642)"
   ]
  },
  {
   "cell_type": "markdown",
   "metadata": {},
   "source": [
    "<div>\n",
    "    <img src=\"static/images/elect_conv.png\" width=\"400\"/>\n",
    "     <img src=\"static/images/gas_conv.png\" width=\"400\"/>\n",
    "</div"
   ]
  },
  {
   "cell_type": "code",
   "execution_count": 12,
   "metadata": {},
   "outputs": [],
   "source": [
    "# 2018 Egrid Costs (elec $/kWh, gas $/therm), change values per city\n",
    "gas = 1.11\n",
    "elec = 0.112\n",
    "\n",
    "# Size (in sq ft) of the building to establish EUI\n",
    "size = 2400"
   ]
  },
  {
   "cell_type": "markdown",
   "metadata": {},
   "source": [
    "++++++++++++++++++++++++++++++++++++++++++++++++++++++++++++++++++++++++++++++++++++++++++++++++++++++++++++++++++++"
   ]
  },
  {
   "cell_type": "markdown",
   "metadata": {},
   "source": [
    "---\n",
    "\n",
    "## Combine v9.5 CSV Files in Directory"
   ]
  },
  {
   "cell_type": "code",
   "execution_count": 3,
   "metadata": {},
   "outputs": [],
   "source": [
    "# Create variable for files in directory\n",
    "files = [f for f in os.listdir(\"data/95/hou/\") if f.endswith(\".csv\")]\n",
    "\n",
    "# files"
   ]
  },
  {
   "cell_type": "code",
   "execution_count": 4,
   "metadata": {
    "scrolled": true
   },
   "outputs": [
    {
     "data": {
      "text/html": [
       "<div>\n",
       "<style scoped>\n",
       "    .dataframe tbody tr th:only-of-type {\n",
       "        vertical-align: middle;\n",
       "    }\n",
       "\n",
       "    .dataframe tbody tr th {\n",
       "        vertical-align: top;\n",
       "    }\n",
       "\n",
       "    .dataframe thead th {\n",
       "        text-align: right;\n",
       "    }\n",
       "</style>\n",
       "<table border=\"1\" class=\"dataframe\">\n",
       "  <thead>\n",
       "    <tr style=\"text-align: right;\">\n",
       "      <th></th>\n",
       "      <th>Scenario</th>\n",
       "      <th>Date/Time</th>\n",
       "      <th>Environment:Site Outdoor Air Drybulb Temperature [C](Hourly)</th>\n",
       "      <th>Environment:Site Diffuse Solar Radiation Rate per Area [W/m2](Hourly)</th>\n",
       "      <th>Environment:Site Direct Solar Radiation Rate per Area [W/m2](Hourly)</th>\n",
       "      <th>Environment:Site Exterior Horizontal Sky Illuminance [lux](Hourly)</th>\n",
       "      <th>Environment:Site Exterior Horizontal Beam Illuminance [lux](Hourly)</th>\n",
       "      <th>Environment:Site Exterior Beam Normal Illuminance [lux](Hourly)</th>\n",
       "      <th>Environment:Site Sky Diffuse Solar Radiation Luminous Efficacy [lum/W](Hourly)</th>\n",
       "      <th>Environment:Site Beam Solar Radiation Luminous Efficacy [lum/W](Hourly)</th>\n",
       "      <th>...</th>\n",
       "      <th>WINDOW_SDL2_2_TOP.UNIT1:Daylighting Window Reference Point 2 View Luminance [cd/m2](Hourly)</th>\n",
       "      <th>LIVING_UNIT1:Zone Operative Temperature [C](Hourly)</th>\n",
       "      <th>ATTIC_UNIT1:Zone Operative Temperature [C](Hourly)</th>\n",
       "      <th>PEOPLE_UNIT1:Zone Thermal Comfort ASHRAE 55 Adaptive Model 90% Acceptability Status [](Hourly)</th>\n",
       "      <th>PEOPLE_UNIT1:Zone Thermal Comfort ASHRAE 55 Adaptive Model 80% Acceptability Status [](Hourly)</th>\n",
       "      <th>PEOPLE_UNIT1:Zone Thermal Comfort ASHRAE 55 Adaptive Model Running Average Outdoor Air Temperature [C](Hourly)</th>\n",
       "      <th>PEOPLE_UNIT1:Zone Thermal Comfort ASHRAE 55 Adaptive Model Temperature [C](Hourly)</th>\n",
       "      <th>SUPPLY FAN_UNIT1:Fan Electricity Energy [J](Hourly)</th>\n",
       "      <th>MAIN GAS HEATING COIL_UNIT1:Heating Coil NaturalGas Energy [J](Hourly)</th>\n",
       "      <th>DX COOLING COIL_UNIT1:Cooling Coil Electricity Energy [J](Hourly)</th>\n",
       "    </tr>\n",
       "  </thead>\n",
       "  <tbody>\n",
       "    <tr>\n",
       "      <th>0</th>\n",
       "      <td>1</td>\n",
       "      <td>01/01  01:00:00</td>\n",
       "      <td>2.9875</td>\n",
       "      <td>0.0</td>\n",
       "      <td>0.0</td>\n",
       "      <td>0.0</td>\n",
       "      <td>0.0</td>\n",
       "      <td>0.0</td>\n",
       "      <td>0.0</td>\n",
       "      <td>0.0</td>\n",
       "      <td>...</td>\n",
       "      <td>0</td>\n",
       "      <td>20.650323</td>\n",
       "      <td>5.597444</td>\n",
       "      <td>1.0</td>\n",
       "      <td>1.0</td>\n",
       "      <td>12.300694</td>\n",
       "      <td>21.613215</td>\n",
       "      <td>481868.92660</td>\n",
       "      <td>1.465875e+07</td>\n",
       "      <td>0.0</td>\n",
       "    </tr>\n",
       "    <tr>\n",
       "      <th>1</th>\n",
       "      <td>1</td>\n",
       "      <td>01/01  02:00:00</td>\n",
       "      <td>2.8000</td>\n",
       "      <td>0.0</td>\n",
       "      <td>0.0</td>\n",
       "      <td>0.0</td>\n",
       "      <td>0.0</td>\n",
       "      <td>0.0</td>\n",
       "      <td>0.0</td>\n",
       "      <td>0.0</td>\n",
       "      <td>...</td>\n",
       "      <td>0</td>\n",
       "      <td>20.558553</td>\n",
       "      <td>5.005730</td>\n",
       "      <td>1.0</td>\n",
       "      <td>1.0</td>\n",
       "      <td>12.300694</td>\n",
       "      <td>21.613215</td>\n",
       "      <td>529666.34510</td>\n",
       "      <td>1.611278e+07</td>\n",
       "      <td>0.0</td>\n",
       "    </tr>\n",
       "    <tr>\n",
       "      <th>2</th>\n",
       "      <td>1</td>\n",
       "      <td>01/01  03:00:00</td>\n",
       "      <td>2.4250</td>\n",
       "      <td>0.0</td>\n",
       "      <td>0.0</td>\n",
       "      <td>0.0</td>\n",
       "      <td>0.0</td>\n",
       "      <td>0.0</td>\n",
       "      <td>0.0</td>\n",
       "      <td>0.0</td>\n",
       "      <td>...</td>\n",
       "      <td>0</td>\n",
       "      <td>20.496253</td>\n",
       "      <td>4.632116</td>\n",
       "      <td>1.0</td>\n",
       "      <td>1.0</td>\n",
       "      <td>12.300694</td>\n",
       "      <td>21.613215</td>\n",
       "      <td>571558.93460</td>\n",
       "      <td>1.738718e+07</td>\n",
       "      <td>0.0</td>\n",
       "    </tr>\n",
       "    <tr>\n",
       "      <th>3</th>\n",
       "      <td>1</td>\n",
       "      <td>01/01  04:00:00</td>\n",
       "      <td>1.8875</td>\n",
       "      <td>0.0</td>\n",
       "      <td>0.0</td>\n",
       "      <td>0.0</td>\n",
       "      <td>0.0</td>\n",
       "      <td>0.0</td>\n",
       "      <td>0.0</td>\n",
       "      <td>0.0</td>\n",
       "      <td>...</td>\n",
       "      <td>0</td>\n",
       "      <td>20.452241</td>\n",
       "      <td>4.200931</td>\n",
       "      <td>1.0</td>\n",
       "      <td>1.0</td>\n",
       "      <td>12.300694</td>\n",
       "      <td>21.613215</td>\n",
       "      <td>611912.21050</td>\n",
       "      <td>1.861475e+07</td>\n",
       "      <td>0.0</td>\n",
       "    </tr>\n",
       "    <tr>\n",
       "      <th>4</th>\n",
       "      <td>1</td>\n",
       "      <td>01/01  05:00:00</td>\n",
       "      <td>1.7000</td>\n",
       "      <td>0.0</td>\n",
       "      <td>0.0</td>\n",
       "      <td>0.0</td>\n",
       "      <td>0.0</td>\n",
       "      <td>0.0</td>\n",
       "      <td>0.0</td>\n",
       "      <td>0.0</td>\n",
       "      <td>...</td>\n",
       "      <td>0</td>\n",
       "      <td>20.424784</td>\n",
       "      <td>3.807051</td>\n",
       "      <td>1.0</td>\n",
       "      <td>1.0</td>\n",
       "      <td>12.300694</td>\n",
       "      <td>21.613215</td>\n",
       "      <td>631186.01780</td>\n",
       "      <td>1.920107e+07</td>\n",
       "      <td>0.0</td>\n",
       "    </tr>\n",
       "    <tr>\n",
       "      <th>...</th>\n",
       "      <td>...</td>\n",
       "      <td>...</td>\n",
       "      <td>...</td>\n",
       "      <td>...</td>\n",
       "      <td>...</td>\n",
       "      <td>...</td>\n",
       "      <td>...</td>\n",
       "      <td>...</td>\n",
       "      <td>...</td>\n",
       "      <td>...</td>\n",
       "      <td>...</td>\n",
       "      <td>...</td>\n",
       "      <td>...</td>\n",
       "      <td>...</td>\n",
       "      <td>...</td>\n",
       "      <td>...</td>\n",
       "      <td>...</td>\n",
       "      <td>...</td>\n",
       "      <td>...</td>\n",
       "      <td>...</td>\n",
       "      <td>...</td>\n",
       "    </tr>\n",
       "    <tr>\n",
       "      <th>8755</th>\n",
       "      <td>49</td>\n",
       "      <td>12/31  20:00:00</td>\n",
       "      <td>11.1000</td>\n",
       "      <td>0.0</td>\n",
       "      <td>0.0</td>\n",
       "      <td>0.0</td>\n",
       "      <td>0.0</td>\n",
       "      <td>0.0</td>\n",
       "      <td>0.0</td>\n",
       "      <td>0.0</td>\n",
       "      <td>...</td>\n",
       "      <td>0</td>\n",
       "      <td>23.526313</td>\n",
       "      <td>15.381476</td>\n",
       "      <td>1.0</td>\n",
       "      <td>1.0</td>\n",
       "      <td>12.613681</td>\n",
       "      <td>21.710241</td>\n",
       "      <td>0.00000</td>\n",
       "      <td>0.000000e+00</td>\n",
       "      <td>0.0</td>\n",
       "    </tr>\n",
       "    <tr>\n",
       "      <th>8756</th>\n",
       "      <td>49</td>\n",
       "      <td>12/31  21:00:00</td>\n",
       "      <td>10.0375</td>\n",
       "      <td>0.0</td>\n",
       "      <td>0.0</td>\n",
       "      <td>0.0</td>\n",
       "      <td>0.0</td>\n",
       "      <td>0.0</td>\n",
       "      <td>0.0</td>\n",
       "      <td>0.0</td>\n",
       "      <td>...</td>\n",
       "      <td>0</td>\n",
       "      <td>22.731577</td>\n",
       "      <td>13.298693</td>\n",
       "      <td>1.0</td>\n",
       "      <td>1.0</td>\n",
       "      <td>12.613681</td>\n",
       "      <td>21.710241</td>\n",
       "      <td>0.00000</td>\n",
       "      <td>0.000000e+00</td>\n",
       "      <td>0.0</td>\n",
       "    </tr>\n",
       "    <tr>\n",
       "      <th>8757</th>\n",
       "      <td>49</td>\n",
       "      <td>12/31  22:00:00</td>\n",
       "      <td>8.0250</td>\n",
       "      <td>0.0</td>\n",
       "      <td>0.0</td>\n",
       "      <td>0.0</td>\n",
       "      <td>0.0</td>\n",
       "      <td>0.0</td>\n",
       "      <td>0.0</td>\n",
       "      <td>0.0</td>\n",
       "      <td>...</td>\n",
       "      <td>0</td>\n",
       "      <td>21.784661</td>\n",
       "      <td>11.687463</td>\n",
       "      <td>1.0</td>\n",
       "      <td>1.0</td>\n",
       "      <td>12.613681</td>\n",
       "      <td>21.710241</td>\n",
       "      <td>24745.44308</td>\n",
       "      <td>7.527717e+05</td>\n",
       "      <td>0.0</td>\n",
       "    </tr>\n",
       "    <tr>\n",
       "      <th>8758</th>\n",
       "      <td>49</td>\n",
       "      <td>12/31  23:00:00</td>\n",
       "      <td>6.8875</td>\n",
       "      <td>0.0</td>\n",
       "      <td>0.0</td>\n",
       "      <td>0.0</td>\n",
       "      <td>0.0</td>\n",
       "      <td>0.0</td>\n",
       "      <td>0.0</td>\n",
       "      <td>0.0</td>\n",
       "      <td>...</td>\n",
       "      <td>0</td>\n",
       "      <td>21.209938</td>\n",
       "      <td>10.089124</td>\n",
       "      <td>1.0</td>\n",
       "      <td>1.0</td>\n",
       "      <td>12.613681</td>\n",
       "      <td>21.710241</td>\n",
       "      <td>207743.95540</td>\n",
       "      <td>6.319700e+06</td>\n",
       "      <td>0.0</td>\n",
       "    </tr>\n",
       "    <tr>\n",
       "      <th>8759</th>\n",
       "      <td>49</td>\n",
       "      <td>12/31  24:00:00</td>\n",
       "      <td>6.7000</td>\n",
       "      <td>0.0</td>\n",
       "      <td>0.0</td>\n",
       "      <td>0.0</td>\n",
       "      <td>0.0</td>\n",
       "      <td>0.0</td>\n",
       "      <td>0.0</td>\n",
       "      <td>0.0</td>\n",
       "      <td>...</td>\n",
       "      <td>0</td>\n",
       "      <td>20.897517</td>\n",
       "      <td>9.056098</td>\n",
       "      <td>1.0</td>\n",
       "      <td>1.0</td>\n",
       "      <td>12.613681</td>\n",
       "      <td>21.710241</td>\n",
       "      <td>309023.83220</td>\n",
       "      <td>9.400696e+06</td>\n",
       "      <td>0.0</td>\n",
       "    </tr>\n",
       "  </tbody>\n",
       "</table>\n",
       "<p>429240 rows × 213 columns</p>\n",
       "</div>"
      ],
      "text/plain": [
       "      Scenario         Date/Time  \\\n",
       "0            1   01/01  01:00:00   \n",
       "1            1   01/01  02:00:00   \n",
       "2            1   01/01  03:00:00   \n",
       "3            1   01/01  04:00:00   \n",
       "4            1   01/01  05:00:00   \n",
       "...        ...               ...   \n",
       "8755        49   12/31  20:00:00   \n",
       "8756        49   12/31  21:00:00   \n",
       "8757        49   12/31  22:00:00   \n",
       "8758        49   12/31  23:00:00   \n",
       "8759        49   12/31  24:00:00   \n",
       "\n",
       "      Environment:Site Outdoor Air Drybulb Temperature [C](Hourly)  \\\n",
       "0                                                2.9875              \n",
       "1                                                2.8000              \n",
       "2                                                2.4250              \n",
       "3                                                1.8875              \n",
       "4                                                1.7000              \n",
       "...                                                 ...              \n",
       "8755                                            11.1000              \n",
       "8756                                            10.0375              \n",
       "8757                                             8.0250              \n",
       "8758                                             6.8875              \n",
       "8759                                             6.7000              \n",
       "\n",
       "      Environment:Site Diffuse Solar Radiation Rate per Area [W/m2](Hourly)  \\\n",
       "0                                                   0.0                       \n",
       "1                                                   0.0                       \n",
       "2                                                   0.0                       \n",
       "3                                                   0.0                       \n",
       "4                                                   0.0                       \n",
       "...                                                 ...                       \n",
       "8755                                                0.0                       \n",
       "8756                                                0.0                       \n",
       "8757                                                0.0                       \n",
       "8758                                                0.0                       \n",
       "8759                                                0.0                       \n",
       "\n",
       "      Environment:Site Direct Solar Radiation Rate per Area [W/m2](Hourly)  \\\n",
       "0                                                   0.0                      \n",
       "1                                                   0.0                      \n",
       "2                                                   0.0                      \n",
       "3                                                   0.0                      \n",
       "4                                                   0.0                      \n",
       "...                                                 ...                      \n",
       "8755                                                0.0                      \n",
       "8756                                                0.0                      \n",
       "8757                                                0.0                      \n",
       "8758                                                0.0                      \n",
       "8759                                                0.0                      \n",
       "\n",
       "      Environment:Site Exterior Horizontal Sky Illuminance [lux](Hourly)  \\\n",
       "0                                                   0.0                    \n",
       "1                                                   0.0                    \n",
       "2                                                   0.0                    \n",
       "3                                                   0.0                    \n",
       "4                                                   0.0                    \n",
       "...                                                 ...                    \n",
       "8755                                                0.0                    \n",
       "8756                                                0.0                    \n",
       "8757                                                0.0                    \n",
       "8758                                                0.0                    \n",
       "8759                                                0.0                    \n",
       "\n",
       "      Environment:Site Exterior Horizontal Beam Illuminance [lux](Hourly)  \\\n",
       "0                                                   0.0                     \n",
       "1                                                   0.0                     \n",
       "2                                                   0.0                     \n",
       "3                                                   0.0                     \n",
       "4                                                   0.0                     \n",
       "...                                                 ...                     \n",
       "8755                                                0.0                     \n",
       "8756                                                0.0                     \n",
       "8757                                                0.0                     \n",
       "8758                                                0.0                     \n",
       "8759                                                0.0                     \n",
       "\n",
       "      Environment:Site Exterior Beam Normal Illuminance [lux](Hourly)  \\\n",
       "0                                                   0.0                 \n",
       "1                                                   0.0                 \n",
       "2                                                   0.0                 \n",
       "3                                                   0.0                 \n",
       "4                                                   0.0                 \n",
       "...                                                 ...                 \n",
       "8755                                                0.0                 \n",
       "8756                                                0.0                 \n",
       "8757                                                0.0                 \n",
       "8758                                                0.0                 \n",
       "8759                                                0.0                 \n",
       "\n",
       "      Environment:Site Sky Diffuse Solar Radiation Luminous Efficacy [lum/W](Hourly)  \\\n",
       "0                                                   0.0                                \n",
       "1                                                   0.0                                \n",
       "2                                                   0.0                                \n",
       "3                                                   0.0                                \n",
       "4                                                   0.0                                \n",
       "...                                                 ...                                \n",
       "8755                                                0.0                                \n",
       "8756                                                0.0                                \n",
       "8757                                                0.0                                \n",
       "8758                                                0.0                                \n",
       "8759                                                0.0                                \n",
       "\n",
       "      Environment:Site Beam Solar Radiation Luminous Efficacy [lum/W](Hourly)  \\\n",
       "0                                                   0.0                         \n",
       "1                                                   0.0                         \n",
       "2                                                   0.0                         \n",
       "3                                                   0.0                         \n",
       "4                                                   0.0                         \n",
       "...                                                 ...                         \n",
       "8755                                                0.0                         \n",
       "8756                                                0.0                         \n",
       "8757                                                0.0                         \n",
       "8758                                                0.0                         \n",
       "8759                                                0.0                         \n",
       "\n",
       "      ...  \\\n",
       "0     ...   \n",
       "1     ...   \n",
       "2     ...   \n",
       "3     ...   \n",
       "4     ...   \n",
       "...   ...   \n",
       "8755  ...   \n",
       "8756  ...   \n",
       "8757  ...   \n",
       "8758  ...   \n",
       "8759  ...   \n",
       "\n",
       "      WINDOW_SDL2_2_TOP.UNIT1:Daylighting Window Reference Point 2 View Luminance [cd/m2](Hourly)  \\\n",
       "0                                                     0                                             \n",
       "1                                                     0                                             \n",
       "2                                                     0                                             \n",
       "3                                                     0                                             \n",
       "4                                                     0                                             \n",
       "...                                                 ...                                             \n",
       "8755                                                  0                                             \n",
       "8756                                                  0                                             \n",
       "8757                                                  0                                             \n",
       "8758                                                  0                                             \n",
       "8759                                                  0                                             \n",
       "\n",
       "      LIVING_UNIT1:Zone Operative Temperature [C](Hourly)  \\\n",
       "0                                             20.650323     \n",
       "1                                             20.558553     \n",
       "2                                             20.496253     \n",
       "3                                             20.452241     \n",
       "4                                             20.424784     \n",
       "...                                                 ...     \n",
       "8755                                          23.526313     \n",
       "8756                                          22.731577     \n",
       "8757                                          21.784661     \n",
       "8758                                          21.209938     \n",
       "8759                                          20.897517     \n",
       "\n",
       "      ATTIC_UNIT1:Zone Operative Temperature [C](Hourly)  \\\n",
       "0                                              5.597444    \n",
       "1                                              5.005730    \n",
       "2                                              4.632116    \n",
       "3                                              4.200931    \n",
       "4                                              3.807051    \n",
       "...                                                 ...    \n",
       "8755                                          15.381476    \n",
       "8756                                          13.298693    \n",
       "8757                                          11.687463    \n",
       "8758                                          10.089124    \n",
       "8759                                           9.056098    \n",
       "\n",
       "      PEOPLE_UNIT1:Zone Thermal Comfort ASHRAE 55 Adaptive Model 90% Acceptability Status [](Hourly)  \\\n",
       "0                                                   1.0                                                \n",
       "1                                                   1.0                                                \n",
       "2                                                   1.0                                                \n",
       "3                                                   1.0                                                \n",
       "4                                                   1.0                                                \n",
       "...                                                 ...                                                \n",
       "8755                                                1.0                                                \n",
       "8756                                                1.0                                                \n",
       "8757                                                1.0                                                \n",
       "8758                                                1.0                                                \n",
       "8759                                                1.0                                                \n",
       "\n",
       "      PEOPLE_UNIT1:Zone Thermal Comfort ASHRAE 55 Adaptive Model 80% Acceptability Status [](Hourly)  \\\n",
       "0                                                   1.0                                                \n",
       "1                                                   1.0                                                \n",
       "2                                                   1.0                                                \n",
       "3                                                   1.0                                                \n",
       "4                                                   1.0                                                \n",
       "...                                                 ...                                                \n",
       "8755                                                1.0                                                \n",
       "8756                                                1.0                                                \n",
       "8757                                                1.0                                                \n",
       "8758                                                1.0                                                \n",
       "8759                                                1.0                                                \n",
       "\n",
       "      PEOPLE_UNIT1:Zone Thermal Comfort ASHRAE 55 Adaptive Model Running Average Outdoor Air Temperature [C](Hourly)  \\\n",
       "0                                             12.300694                                                                \n",
       "1                                             12.300694                                                                \n",
       "2                                             12.300694                                                                \n",
       "3                                             12.300694                                                                \n",
       "4                                             12.300694                                                                \n",
       "...                                                 ...                                                                \n",
       "8755                                          12.613681                                                                \n",
       "8756                                          12.613681                                                                \n",
       "8757                                          12.613681                                                                \n",
       "8758                                          12.613681                                                                \n",
       "8759                                          12.613681                                                                \n",
       "\n",
       "      PEOPLE_UNIT1:Zone Thermal Comfort ASHRAE 55 Adaptive Model Temperature [C](Hourly)  \\\n",
       "0                                             21.613215                                    \n",
       "1                                             21.613215                                    \n",
       "2                                             21.613215                                    \n",
       "3                                             21.613215                                    \n",
       "4                                             21.613215                                    \n",
       "...                                                 ...                                    \n",
       "8755                                          21.710241                                    \n",
       "8756                                          21.710241                                    \n",
       "8757                                          21.710241                                    \n",
       "8758                                          21.710241                                    \n",
       "8759                                          21.710241                                    \n",
       "\n",
       "      SUPPLY FAN_UNIT1:Fan Electricity Energy [J](Hourly)  \\\n",
       "0                                          481868.92660     \n",
       "1                                          529666.34510     \n",
       "2                                          571558.93460     \n",
       "3                                          611912.21050     \n",
       "4                                          631186.01780     \n",
       "...                                                 ...     \n",
       "8755                                            0.00000     \n",
       "8756                                            0.00000     \n",
       "8757                                        24745.44308     \n",
       "8758                                       207743.95540     \n",
       "8759                                       309023.83220     \n",
       "\n",
       "      MAIN GAS HEATING COIL_UNIT1:Heating Coil NaturalGas Energy [J](Hourly)  \\\n",
       "0                                          1.465875e+07                        \n",
       "1                                          1.611278e+07                        \n",
       "2                                          1.738718e+07                        \n",
       "3                                          1.861475e+07                        \n",
       "4                                          1.920107e+07                        \n",
       "...                                                 ...                        \n",
       "8755                                       0.000000e+00                        \n",
       "8756                                       0.000000e+00                        \n",
       "8757                                       7.527717e+05                        \n",
       "8758                                       6.319700e+06                        \n",
       "8759                                       9.400696e+06                        \n",
       "\n",
       "      DX COOLING COIL_UNIT1:Cooling Coil Electricity Energy [J](Hourly)   \n",
       "0                                                   0.0                   \n",
       "1                                                   0.0                   \n",
       "2                                                   0.0                   \n",
       "3                                                   0.0                   \n",
       "4                                                   0.0                   \n",
       "...                                                 ...                   \n",
       "8755                                                0.0                   \n",
       "8756                                                0.0                   \n",
       "8757                                                0.0                   \n",
       "8758                                                0.0                   \n",
       "8759                                                0.0                   \n",
       "\n",
       "[429240 rows x 213 columns]"
      ]
     },
     "execution_count": 4,
     "metadata": {},
     "output_type": "execute_result"
    }
   ],
   "source": [
    "# https://stackoverflow.com/questions/63886787/how-to-create-a-dataframe-from-multiple-csv-files\n",
    "# Initialize and empty dataframe\n",
    "all_data95 = pd.DataFrame()\n",
    "\n",
    "# Iterate through files and contents, then concatenate the data into the dataframe\n",
    "for file in files:\n",
    "    df = pd.read_csv(\"data/95/hou/\" + file)\n",
    "    all_data95 = pd.concat([all_data95, df])\n",
    "    \n",
    "all_data95\n",
    "\n",
    "# 429240  rows, 214 columns"
   ]
  },
  {
   "cell_type": "code",
   "execution_count": 5,
   "metadata": {},
   "outputs": [
    {
     "data": {
      "text/html": [
       "<div>\n",
       "<style scoped>\n",
       "    .dataframe tbody tr th:only-of-type {\n",
       "        vertical-align: middle;\n",
       "    }\n",
       "\n",
       "    .dataframe tbody tr th {\n",
       "        vertical-align: top;\n",
       "    }\n",
       "\n",
       "    .dataframe thead th {\n",
       "        text-align: right;\n",
       "    }\n",
       "</style>\n",
       "<table border=\"1\" class=\"dataframe\">\n",
       "  <thead>\n",
       "    <tr style=\"text-align: right;\">\n",
       "      <th></th>\n",
       "      <th>Scenario</th>\n",
       "      <th>Date/Time</th>\n",
       "      <th>LIVING_UNIT1 DAYLIGHTINGCONTROLS:Daylighting Reference Point 1 Illuminance [lux](Hourly)</th>\n",
       "      <th>SUPPLY FAN_UNIT1:Fan Electricity Energy [J](Hourly)</th>\n",
       "      <th>MAIN GAS HEATING COIL_UNIT1:Heating Coil NaturalGas Energy [J](Hourly)</th>\n",
       "      <th>DX COOLING COIL_UNIT1:Cooling Coil Electricity Energy [J](Hourly)</th>\n",
       "    </tr>\n",
       "  </thead>\n",
       "  <tbody>\n",
       "    <tr>\n",
       "      <th>0</th>\n",
       "      <td>1</td>\n",
       "      <td>01/01  01:00:00</td>\n",
       "      <td>0.0</td>\n",
       "      <td>481868.92660</td>\n",
       "      <td>1.465875e+07</td>\n",
       "      <td>0.0</td>\n",
       "    </tr>\n",
       "    <tr>\n",
       "      <th>1</th>\n",
       "      <td>1</td>\n",
       "      <td>01/01  02:00:00</td>\n",
       "      <td>0.0</td>\n",
       "      <td>529666.34510</td>\n",
       "      <td>1.611278e+07</td>\n",
       "      <td>0.0</td>\n",
       "    </tr>\n",
       "    <tr>\n",
       "      <th>2</th>\n",
       "      <td>1</td>\n",
       "      <td>01/01  03:00:00</td>\n",
       "      <td>0.0</td>\n",
       "      <td>571558.93460</td>\n",
       "      <td>1.738718e+07</td>\n",
       "      <td>0.0</td>\n",
       "    </tr>\n",
       "    <tr>\n",
       "      <th>3</th>\n",
       "      <td>1</td>\n",
       "      <td>01/01  04:00:00</td>\n",
       "      <td>0.0</td>\n",
       "      <td>611912.21050</td>\n",
       "      <td>1.861475e+07</td>\n",
       "      <td>0.0</td>\n",
       "    </tr>\n",
       "    <tr>\n",
       "      <th>4</th>\n",
       "      <td>1</td>\n",
       "      <td>01/01  05:00:00</td>\n",
       "      <td>0.0</td>\n",
       "      <td>631186.01780</td>\n",
       "      <td>1.920107e+07</td>\n",
       "      <td>0.0</td>\n",
       "    </tr>\n",
       "    <tr>\n",
       "      <th>...</th>\n",
       "      <td>...</td>\n",
       "      <td>...</td>\n",
       "      <td>...</td>\n",
       "      <td>...</td>\n",
       "      <td>...</td>\n",
       "      <td>...</td>\n",
       "    </tr>\n",
       "    <tr>\n",
       "      <th>8755</th>\n",
       "      <td>49</td>\n",
       "      <td>12/31  20:00:00</td>\n",
       "      <td>0.0</td>\n",
       "      <td>0.00000</td>\n",
       "      <td>0.000000e+00</td>\n",
       "      <td>0.0</td>\n",
       "    </tr>\n",
       "    <tr>\n",
       "      <th>8756</th>\n",
       "      <td>49</td>\n",
       "      <td>12/31  21:00:00</td>\n",
       "      <td>0.0</td>\n",
       "      <td>0.00000</td>\n",
       "      <td>0.000000e+00</td>\n",
       "      <td>0.0</td>\n",
       "    </tr>\n",
       "    <tr>\n",
       "      <th>8757</th>\n",
       "      <td>49</td>\n",
       "      <td>12/31  22:00:00</td>\n",
       "      <td>0.0</td>\n",
       "      <td>24745.44308</td>\n",
       "      <td>7.527717e+05</td>\n",
       "      <td>0.0</td>\n",
       "    </tr>\n",
       "    <tr>\n",
       "      <th>8758</th>\n",
       "      <td>49</td>\n",
       "      <td>12/31  23:00:00</td>\n",
       "      <td>0.0</td>\n",
       "      <td>207743.95540</td>\n",
       "      <td>6.319700e+06</td>\n",
       "      <td>0.0</td>\n",
       "    </tr>\n",
       "    <tr>\n",
       "      <th>8759</th>\n",
       "      <td>49</td>\n",
       "      <td>12/31  24:00:00</td>\n",
       "      <td>0.0</td>\n",
       "      <td>309023.83220</td>\n",
       "      <td>9.400696e+06</td>\n",
       "      <td>0.0</td>\n",
       "    </tr>\n",
       "  </tbody>\n",
       "</table>\n",
       "<p>429240 rows × 6 columns</p>\n",
       "</div>"
      ],
      "text/plain": [
       "      Scenario         Date/Time  \\\n",
       "0            1   01/01  01:00:00   \n",
       "1            1   01/01  02:00:00   \n",
       "2            1   01/01  03:00:00   \n",
       "3            1   01/01  04:00:00   \n",
       "4            1   01/01  05:00:00   \n",
       "...        ...               ...   \n",
       "8755        49   12/31  20:00:00   \n",
       "8756        49   12/31  21:00:00   \n",
       "8757        49   12/31  22:00:00   \n",
       "8758        49   12/31  23:00:00   \n",
       "8759        49   12/31  24:00:00   \n",
       "\n",
       "      LIVING_UNIT1 DAYLIGHTINGCONTROLS:Daylighting Reference Point 1 Illuminance [lux](Hourly)  \\\n",
       "0                                                   0.0                                          \n",
       "1                                                   0.0                                          \n",
       "2                                                   0.0                                          \n",
       "3                                                   0.0                                          \n",
       "4                                                   0.0                                          \n",
       "...                                                 ...                                          \n",
       "8755                                                0.0                                          \n",
       "8756                                                0.0                                          \n",
       "8757                                                0.0                                          \n",
       "8758                                                0.0                                          \n",
       "8759                                                0.0                                          \n",
       "\n",
       "      SUPPLY FAN_UNIT1:Fan Electricity Energy [J](Hourly)  \\\n",
       "0                                          481868.92660     \n",
       "1                                          529666.34510     \n",
       "2                                          571558.93460     \n",
       "3                                          611912.21050     \n",
       "4                                          631186.01780     \n",
       "...                                                 ...     \n",
       "8755                                            0.00000     \n",
       "8756                                            0.00000     \n",
       "8757                                        24745.44308     \n",
       "8758                                       207743.95540     \n",
       "8759                                       309023.83220     \n",
       "\n",
       "      MAIN GAS HEATING COIL_UNIT1:Heating Coil NaturalGas Energy [J](Hourly)  \\\n",
       "0                                          1.465875e+07                        \n",
       "1                                          1.611278e+07                        \n",
       "2                                          1.738718e+07                        \n",
       "3                                          1.861475e+07                        \n",
       "4                                          1.920107e+07                        \n",
       "...                                                 ...                        \n",
       "8755                                       0.000000e+00                        \n",
       "8756                                       0.000000e+00                        \n",
       "8757                                       7.527717e+05                        \n",
       "8758                                       6.319700e+06                        \n",
       "8759                                       9.400696e+06                        \n",
       "\n",
       "      DX COOLING COIL_UNIT1:Cooling Coil Electricity Energy [J](Hourly)   \n",
       "0                                                   0.0                   \n",
       "1                                                   0.0                   \n",
       "2                                                   0.0                   \n",
       "3                                                   0.0                   \n",
       "4                                                   0.0                   \n",
       "...                                                 ...                   \n",
       "8755                                                0.0                   \n",
       "8756                                                0.0                   \n",
       "8757                                                0.0                   \n",
       "8758                                                0.0                   \n",
       "8759                                                0.0                   \n",
       "\n",
       "[429240 rows x 6 columns]"
      ]
     },
     "execution_count": 5,
     "metadata": {},
     "output_type": "execute_result"
    }
   ],
   "source": [
    "# Get wanted columns\n",
    "all_data95_1 = all_data95[[\"Scenario\",\n",
    "               \"Date/Time\",\n",
    "              \"LIVING_UNIT1 DAYLIGHTINGCONTROLS:Daylighting Reference Point 1 Illuminance [lux](Hourly)\",\n",
    "              \"SUPPLY FAN_UNIT1:Fan Electricity Energy [J](Hourly)\",\n",
    "              \"MAIN GAS HEATING COIL_UNIT1:Heating Coil NaturalGas Energy [J](Hourly)\",\n",
    "              \"DX COOLING COIL_UNIT1:Cooling Coil Electricity Energy [J](Hourly) \"]]\n",
    "\n",
    "all_data95_1"
   ]
  },
  {
   "cell_type": "code",
   "execution_count": 6,
   "metadata": {},
   "outputs": [],
   "source": [
    "# all_data95_1 = all_data95_1.dropna().reset_index(drop=True)\n",
    "\n",
    "# all_data95_1\n",
    "\n",
    "# #438000  rows, 73 columns"
   ]
  },
  {
   "cell_type": "markdown",
   "metadata": {},
   "source": [
    "-----\n",
    "\n",
    "## Get the Wanted Data (columns)"
   ]
  },
  {
   "cell_type": "code",
   "execution_count": 14,
   "metadata": {
    "scrolled": true
   },
   "outputs": [],
   "source": [
    "# Rename Columns\n",
    "all_data95_2 = all_data95_1.rename(columns={\"Scenario\":\"Scenario\",\n",
    "                              \"Date/Time\":\"Date_Time\",\n",
    "                             \"LIVING_UNIT1 DAYLIGHTINGCONTROLS:Daylighting Reference Point 1 Illuminance [lux](Hourly)\":\"Illuminance(lux)\",\n",
    "                             \"SUPPLY FAN_UNIT1:Fan Electricity Energy [J](Hourly)\":\"FanEnergy[J](Hourly)\",\n",
    "                             \"MAIN GAS HEATING COIL_UNIT1:Heating Coil NaturalGas Energy [J](Hourly)\":\"HeatingEnergy[J](Hourly)\",\n",
    "                             \"DX COOLING COIL_UNIT1:Cooling Coil Electricity Energy [J](Hourly) \":\"CoolingEnergy[J](Hourly) \"\n",
    "                             })\n",
    "\n",
    "#all_data95_2\n",
    "\n",
    "#438000  rows, 6 columns"
   ]
  },
  {
   "cell_type": "markdown",
   "metadata": {},
   "source": [
    "-----\n",
    "\n",
    "## Get Annual Energy Data\n",
    "Convert units from Joules to kBtu<br>\n",
    "Drop Illuminance column<br>\n"
   ]
  },
  {
   "cell_type": "code",
   "execution_count": 15,
   "metadata": {},
   "outputs": [],
   "source": [
    "# Copy dataframe to modify and leave original df intact\n",
    "get_annual95 = all_data95_2.copy(deep=True)\n",
    "\n",
    "#get_annual"
   ]
  },
  {
   "cell_type": "code",
   "execution_count": 16,
   "metadata": {},
   "outputs": [
    {
     "data": {
      "text/html": [
       "<div>\n",
       "<style scoped>\n",
       "    .dataframe tbody tr th:only-of-type {\n",
       "        vertical-align: middle;\n",
       "    }\n",
       "\n",
       "    .dataframe tbody tr th {\n",
       "        vertical-align: top;\n",
       "    }\n",
       "\n",
       "    .dataframe thead th {\n",
       "        text-align: right;\n",
       "    }\n",
       "</style>\n",
       "<table border=\"1\" class=\"dataframe\">\n",
       "  <thead>\n",
       "    <tr style=\"text-align: right;\">\n",
       "      <th></th>\n",
       "      <th>Scenario</th>\n",
       "      <th>Date_Time</th>\n",
       "      <th>Illuminance(lux)</th>\n",
       "      <th>FanEnergy[J](Hourly)</th>\n",
       "      <th>HeatingEnergy[J](Hourly)</th>\n",
       "      <th>CoolingEnergy[J](Hourly)</th>\n",
       "      <th>FanEnergy(kBtu)</th>\n",
       "      <th>HeatingEnergy(kBtu)</th>\n",
       "      <th>CoolingEnergy(kBtu)</th>\n",
       "    </tr>\n",
       "  </thead>\n",
       "  <tbody>\n",
       "    <tr>\n",
       "      <th>0</th>\n",
       "      <td>1</td>\n",
       "      <td>01/01  01:00:00</td>\n",
       "      <td>0.0</td>\n",
       "      <td>481868.92660</td>\n",
       "      <td>1.465875e+07</td>\n",
       "      <td>0.0</td>\n",
       "      <td>0.456724</td>\n",
       "      <td>13.893815</td>\n",
       "      <td>0.0</td>\n",
       "    </tr>\n",
       "    <tr>\n",
       "      <th>1</th>\n",
       "      <td>1</td>\n",
       "      <td>01/01  02:00:00</td>\n",
       "      <td>0.0</td>\n",
       "      <td>529666.34510</td>\n",
       "      <td>1.611278e+07</td>\n",
       "      <td>0.0</td>\n",
       "      <td>0.502027</td>\n",
       "      <td>15.271967</td>\n",
       "      <td>0.0</td>\n",
       "    </tr>\n",
       "    <tr>\n",
       "      <th>2</th>\n",
       "      <td>1</td>\n",
       "      <td>01/01  03:00:00</td>\n",
       "      <td>0.0</td>\n",
       "      <td>571558.93460</td>\n",
       "      <td>1.738718e+07</td>\n",
       "      <td>0.0</td>\n",
       "      <td>0.541733</td>\n",
       "      <td>16.479864</td>\n",
       "      <td>0.0</td>\n",
       "    </tr>\n",
       "    <tr>\n",
       "      <th>3</th>\n",
       "      <td>1</td>\n",
       "      <td>01/01  04:00:00</td>\n",
       "      <td>0.0</td>\n",
       "      <td>611912.21050</td>\n",
       "      <td>1.861475e+07</td>\n",
       "      <td>0.0</td>\n",
       "      <td>0.579981</td>\n",
       "      <td>17.643377</td>\n",
       "      <td>0.0</td>\n",
       "    </tr>\n",
       "    <tr>\n",
       "      <th>4</th>\n",
       "      <td>1</td>\n",
       "      <td>01/01  05:00:00</td>\n",
       "      <td>0.0</td>\n",
       "      <td>631186.01780</td>\n",
       "      <td>1.920107e+07</td>\n",
       "      <td>0.0</td>\n",
       "      <td>0.598249</td>\n",
       "      <td>18.199102</td>\n",
       "      <td>0.0</td>\n",
       "    </tr>\n",
       "    <tr>\n",
       "      <th>...</th>\n",
       "      <td>...</td>\n",
       "      <td>...</td>\n",
       "      <td>...</td>\n",
       "      <td>...</td>\n",
       "      <td>...</td>\n",
       "      <td>...</td>\n",
       "      <td>...</td>\n",
       "      <td>...</td>\n",
       "      <td>...</td>\n",
       "    </tr>\n",
       "    <tr>\n",
       "      <th>8755</th>\n",
       "      <td>49</td>\n",
       "      <td>12/31  20:00:00</td>\n",
       "      <td>0.0</td>\n",
       "      <td>0.00000</td>\n",
       "      <td>0.000000e+00</td>\n",
       "      <td>0.0</td>\n",
       "      <td>0.000000</td>\n",
       "      <td>0.000000</td>\n",
       "      <td>0.0</td>\n",
       "    </tr>\n",
       "    <tr>\n",
       "      <th>8756</th>\n",
       "      <td>49</td>\n",
       "      <td>12/31  21:00:00</td>\n",
       "      <td>0.0</td>\n",
       "      <td>0.00000</td>\n",
       "      <td>0.000000e+00</td>\n",
       "      <td>0.0</td>\n",
       "      <td>0.000000</td>\n",
       "      <td>0.000000</td>\n",
       "      <td>0.0</td>\n",
       "    </tr>\n",
       "    <tr>\n",
       "      <th>8757</th>\n",
       "      <td>49</td>\n",
       "      <td>12/31  22:00:00</td>\n",
       "      <td>0.0</td>\n",
       "      <td>24745.44308</td>\n",
       "      <td>7.527717e+05</td>\n",
       "      <td>0.0</td>\n",
       "      <td>0.023454</td>\n",
       "      <td>0.713490</td>\n",
       "      <td>0.0</td>\n",
       "    </tr>\n",
       "    <tr>\n",
       "      <th>8758</th>\n",
       "      <td>49</td>\n",
       "      <td>12/31  23:00:00</td>\n",
       "      <td>0.0</td>\n",
       "      <td>207743.95540</td>\n",
       "      <td>6.319700e+06</td>\n",
       "      <td>0.0</td>\n",
       "      <td>0.196903</td>\n",
       "      <td>5.989920</td>\n",
       "      <td>0.0</td>\n",
       "    </tr>\n",
       "    <tr>\n",
       "      <th>8759</th>\n",
       "      <td>49</td>\n",
       "      <td>12/31  24:00:00</td>\n",
       "      <td>0.0</td>\n",
       "      <td>309023.83220</td>\n",
       "      <td>9.400696e+06</td>\n",
       "      <td>0.0</td>\n",
       "      <td>0.292898</td>\n",
       "      <td>8.910141</td>\n",
       "      <td>0.0</td>\n",
       "    </tr>\n",
       "  </tbody>\n",
       "</table>\n",
       "<p>429240 rows × 9 columns</p>\n",
       "</div>"
      ],
      "text/plain": [
       "      Scenario         Date_Time  Illuminance(lux)  FanEnergy[J](Hourly)  \\\n",
       "0            1   01/01  01:00:00               0.0          481868.92660   \n",
       "1            1   01/01  02:00:00               0.0          529666.34510   \n",
       "2            1   01/01  03:00:00               0.0          571558.93460   \n",
       "3            1   01/01  04:00:00               0.0          611912.21050   \n",
       "4            1   01/01  05:00:00               0.0          631186.01780   \n",
       "...        ...               ...               ...                   ...   \n",
       "8755        49   12/31  20:00:00               0.0               0.00000   \n",
       "8756        49   12/31  21:00:00               0.0               0.00000   \n",
       "8757        49   12/31  22:00:00               0.0           24745.44308   \n",
       "8758        49   12/31  23:00:00               0.0          207743.95540   \n",
       "8759        49   12/31  24:00:00               0.0          309023.83220   \n",
       "\n",
       "      HeatingEnergy[J](Hourly)  CoolingEnergy[J](Hourly)   FanEnergy(kBtu)  \\\n",
       "0                 1.465875e+07                        0.0         0.456724   \n",
       "1                 1.611278e+07                        0.0         0.502027   \n",
       "2                 1.738718e+07                        0.0         0.541733   \n",
       "3                 1.861475e+07                        0.0         0.579981   \n",
       "4                 1.920107e+07                        0.0         0.598249   \n",
       "...                        ...                        ...              ...   \n",
       "8755              0.000000e+00                        0.0         0.000000   \n",
       "8756              0.000000e+00                        0.0         0.000000   \n",
       "8757              7.527717e+05                        0.0         0.023454   \n",
       "8758              6.319700e+06                        0.0         0.196903   \n",
       "8759              9.400696e+06                        0.0         0.292898   \n",
       "\n",
       "      HeatingEnergy(kBtu)  CoolingEnergy(kBtu)  \n",
       "0               13.893815                  0.0  \n",
       "1               15.271967                  0.0  \n",
       "2               16.479864                  0.0  \n",
       "3               17.643377                  0.0  \n",
       "4               18.199102                  0.0  \n",
       "...                   ...                  ...  \n",
       "8755             0.000000                  0.0  \n",
       "8756             0.000000                  0.0  \n",
       "8757             0.713490                  0.0  \n",
       "8758             5.989920                  0.0  \n",
       "8759             8.910141                  0.0  \n",
       "\n",
       "[429240 rows x 9 columns]"
      ]
     },
     "execution_count": 16,
     "metadata": {},
     "output_type": "execute_result"
    }
   ],
   "source": [
    "# Convert Joules to KBtu in dataframe\n",
    "get_annual95[\"FanEnergy(kBtu)\"] = get_annual95[\"FanEnergy[J](Hourly)\"] * .00000094781712\n",
    "get_annual95[\"HeatingEnergy(kBtu)\"] = get_annual95[\"HeatingEnergy[J](Hourly)\"] * .00000094781712\n",
    "get_annual95[\"CoolingEnergy(kBtu)\"] = get_annual95[\"CoolingEnergy[J](Hourly) \"] * .00000094781712\n",
    "\n",
    "get_annual95"
   ]
  },
  {
   "cell_type": "code",
   "execution_count": 10,
   "metadata": {},
   "outputs": [],
   "source": [
    "#list(get_annual95.columns.values)"
   ]
  },
  {
   "cell_type": "code",
   "execution_count": 11,
   "metadata": {},
   "outputs": [],
   "source": [
    "# Drop columns\n",
    "get_annual95.drop(columns = [\"FanEnergy[J](Hourly)\", \"HeatingEnergy[J](Hourly)\", \"CoolingEnergy[J](Hourly) \"], axis=1, inplace=True)\n",
    "\n",
    "#get_annual95"
   ]
  },
  {
   "cell_type": "code",
   "execution_count": null,
   "metadata": {},
   "outputs": [],
   "source": [
    "# Get the source energy EUI (energy/sq ft)"
   ]
  },
  {
   "cell_type": "markdown",
   "metadata": {},
   "source": [
    "---\n",
    "\n",
    "## Get Annual Cost Data\n",
    "Convert units from Joules to kWh and therms to use cost multiplier<br>\n",
    "Drop Illuminance column<br>\n",
    "Add cost multiplier, variables defined above"
   ]
  },
  {
   "cell_type": "code",
   "execution_count": null,
   "metadata": {},
   "outputs": [],
   "source": [
    "# Get annual costs\n",
    "get_annual95_costs = all_data95_2.copy(deep=True)"
   ]
  },
  {
   "cell_type": "code",
   "execution_count": null,
   "metadata": {},
   "outputs": [],
   "source": [
    "# Convert Joules to KBtu in dataframe and add cost multiplier\n",
    "# Gas kbtu => Mbtu => therms: (kbtu/1000) * 10\n",
    "# Elec kbtu => Kwh (kbtu * .000000277777778)\n",
    "get_annual95_costs[\"FanCost($)\"] = (get_annual95_costs[\"FanEnergy[J](Hourly)\"] * .000000277777778) * elec\n",
    "get_annual95_costs[\"HeatingCost($)\"] = ((get_annual95_costs[\"HeatingEnergy[J](Hourly)\"] * .00000094781712)/1000) * 10  * gas\n",
    "get_annual95_costs[\"CoolingCost($)\"] = (get_annual95_costs[\"CoolingEnergy[J](Hourly) \"] * .000000277777778) * elec\n",
    "\n",
    "#get_annual_costs95"
   ]
  },
  {
   "cell_type": "code",
   "execution_count": null,
   "metadata": {},
   "outputs": [],
   "source": [
    "# Drop columns\n",
    "get_annual95_costs.drop(columns = [\"Illuminance(lux)\",\"FanEnergy[J](Hourly)\", \"HeatingEnergy[J](Hourly)\", \"CoolingEnergy[J](Hourly) \"], axis=1, inplace=True)\n",
    "\n",
    "#get_annual_costs95"
   ]
  },
  {
   "cell_type": "markdown",
   "metadata": {},
   "source": [
    "---\n",
    "\n",
    "## Combine Annual Energy and Cost Data\n",
    "Combine two dfs<br>\n",
    "Export combine file"
   ]
  },
  {
   "cell_type": "code",
   "execution_count": null,
   "metadata": {},
   "outputs": [],
   "source": [
    "# Combine data for energy and cost\n",
    "allAnnualData95 = pd.merge(get_annual95, get_annual95_costs)\n",
    "\n",
    "#allAnnualData95"
   ]
  },
  {
   "cell_type": "code",
   "execution_count": null,
   "metadata": {},
   "outputs": [],
   "source": [
    "# Add energy and cost totals\n",
    "totalEnergy95 = allAnnualData95[\"FanEnergy(kBtu)\"] + allAnnualData95[\"HeatingEnergy(kBtu)\"] + allAnnualData95[\"CoolingEnergy(kBtu)\"]\n",
    "allAnnualData95[\"AnnualEnergy(kBtu)\"] = totalEnergy95\n",
    "\n",
    "totalCost95 = allAnnualData95[\"FanCost($)\"] + allAnnualData95[\"HeatingCost($)\"] + allAnnualData95[\"CoolingCost($)\"]\n",
    "allAnnualData95[\"AnnualCost($)\"] = totalCost95\n",
    "\n",
    "#allAnnualData95"
   ]
  },
  {
   "cell_type": "code",
   "execution_count": null,
   "metadata": {},
   "outputs": [],
   "source": [
    "#list(allAnnualData95.columns.values)"
   ]
  },
  {
   "cell_type": "markdown",
   "metadata": {},
   "source": [
    "---\n",
    "## Group and Export Annual Data\n",
    "Group dataframe by scenario<br>\n",
    "Export to file"
   ]
  },
  {
   "cell_type": "code",
   "execution_count": null,
   "metadata": {},
   "outputs": [],
   "source": [
    "# Group by scenario\n",
    "annualData95 = allAnnualData95.groupby([\"Scenario\"], as_index=True)\n",
    "\n",
    "#annualData95.sum().round(2)"
   ]
  },
  {
   "cell_type": "code",
   "execution_count": null,
   "metadata": {},
   "outputs": [],
   "source": [
    "annualDataFinal95 = annualData95.sum().round(2)\n",
    "\n",
    "#annualDataFinal95"
   ]
  },
  {
   "cell_type": "code",
   "execution_count": null,
   "metadata": {},
   "outputs": [],
   "source": [
    "# Export grouped file to csv\n",
    "annualDataFinal95.to_csv(\"../Regression_Scraper_Output/hou_annual95_data.csv\", header=True, index=True)"
   ]
  },
  {
   "cell_type": "markdown",
   "metadata": {},
   "source": [
    "-----\n",
    "\n",
    "## Get Monthly Energy Data\n",
    "Change units from Joules to therms and kWh for costs only, convert to kbtu for data<br>\n",
    "No baseline data used in monthly export due to differing units of energy, refer to annual and hourly.<br>\n",
    "Drop unwanted columns"
   ]
  },
  {
   "cell_type": "code",
   "execution_count": null,
   "metadata": {},
   "outputs": [],
   "source": [
    "# Copy dataframe to modify and leave original df intact\n",
    "get_monthly95 = all_data95_2.copy(deep=True)\n",
    "\n",
    "#get_monthly95"
   ]
  },
  {
   "cell_type": "code",
   "execution_count": null,
   "metadata": {},
   "outputs": [],
   "source": [
    "# Convert Joules to kWh and therms in new dataframe\n",
    "get_monthly95[\"FanEnergy(kBtu)\"] = get_monthly95[\"FanEnergy[J](Hourly)\"] * .00000094781712\n",
    "get_monthly95[\"HeatingEnergy(kBtu)\"] = get_monthly95[\"HeatingEnergy[J](Hourly)\"] * .00000094781712\n",
    "get_monthly95[\"CoolingEnergy(kBtu)\"] = get_monthly95[\"CoolingEnergy[J](Hourly) \"] * .00000094781712\n",
    "\n",
    "#get_monthly95"
   ]
  },
  {
   "cell_type": "code",
   "execution_count": null,
   "metadata": {},
   "outputs": [],
   "source": [
    "# Drop columns\n",
    "get_monthly95.drop(columns = [\"FanEnergy[J](Hourly)\", \"HeatingEnergy[J](Hourly)\", \"CoolingEnergy[J](Hourly) \"], axis=1, inplace=True)\n",
    "\n",
    "get_monthly95"
   ]
  },
  {
   "cell_type": "markdown",
   "metadata": {},
   "source": [
    "## Get Monthly Cost Data\n",
    "\n",
    "Change units from Joules to therms and kWh<br>\n",
    "Add cost multiplier, variable needs to be defined above"
   ]
  },
  {
   "cell_type": "code",
   "execution_count": null,
   "metadata": {},
   "outputs": [],
   "source": [
    "# Copy dataframe to modify and leave original df intact\n",
    "get_monthly95_costs = all_data95_2.copy(deep=True)\n",
    "\n",
    "#get_monthly95"
   ]
  },
  {
   "cell_type": "code",
   "execution_count": null,
   "metadata": {},
   "outputs": [],
   "source": [
    "# Convert Joules to KBtu in dataframe and add cost multiplier\n",
    "# Gas kbtu => Mbtu => therms: (kbtu/1000) * 10\n",
    "# Elec kbtu => Kwh (kbtu * .000000277777778)\n",
    "get_monthly95_costs[\"FanCost($)\"] = (get_monthly95_costs[\"FanEnergy[J](Hourly)\"] * .000000277777778) * elec\n",
    "get_monthly95_costs[\"HeatingCost($)\"] = ((get_monthly95_costs[\"HeatingEnergy[J](Hourly)\"] * .00000094781712)/1000) * 10  * gas\n",
    "get_monthly95_costs[\"CoolingCost($)\"] = (get_monthly95_costs[\"CoolingEnergy[J](Hourly) \"] * .000000277777778) * elec\n",
    "\n",
    "#get_monthly95_costs"
   ]
  },
  {
   "cell_type": "code",
   "execution_count": null,
   "metadata": {},
   "outputs": [],
   "source": [
    "# Drop columns\n",
    "get_monthly95_costs.drop(columns = [\"FanEnergy[J](Hourly)\", \"HeatingEnergy[J](Hourly)\", \"CoolingEnergy[J](Hourly) \"], axis=1, inplace=True)\n",
    "\n",
    "#get_monthly95_costs"
   ]
  },
  {
   "cell_type": "markdown",
   "metadata": {},
   "source": [
    "---\n",
    "\n",
    "## Combine Monthly Energy and Cost Data\n",
    "Combine two dfs<br>\n",
    "Create Month Column<br>\n",
    "Export combine file"
   ]
  },
  {
   "cell_type": "code",
   "execution_count": null,
   "metadata": {},
   "outputs": [],
   "source": [
    "# Combine data for energy and cost\n",
    "allMonthlyData95 = pd.merge(get_monthly95, get_monthly95_costs, how=\"inner\")\n",
    "\n",
    "#allMonthlyData95"
   ]
  },
  {
   "cell_type": "code",
   "execution_count": null,
   "metadata": {},
   "outputs": [],
   "source": [
    "# Add energy and cost totals\n",
    "\n",
    "totalEnergyMonthly95 = allMonthlyData95[\"FanEnergy(kBtu)\"] + allMonthlyData95[\"HeatingEnergy(kBtu)\"] + allMonthlyData95[\"CoolingEnergy(kBtu)\"]\n",
    "totalCostMonthly95 = allMonthlyData95[\"FanCost($)\"] + allMonthlyData95[\"HeatingCost($)\"] + allMonthlyData95[\"CoolingCost($)\"]\n",
    "allMonthlyData95[\"MonthlyEnergy(kBtu)\"] = totalEnergyMonthly95\n",
    "allMonthlyData95[\"MonthlyCost($)\"] = totalCostMonthly95\n",
    "\n",
    "#allMonthlyData95"
   ]
  },
  {
   "cell_type": "code",
   "execution_count": null,
   "metadata": {
    "scrolled": true
   },
   "outputs": [],
   "source": [
    "allMonthlyData95[\"Month\"] = allMonthlyData95.Date_Time.str.slice(0,3)\n",
    "\n",
    "allMonthlyData95"
   ]
  },
  {
   "cell_type": "markdown",
   "metadata": {},
   "source": [
    "## Group and Export Monthly Data\n",
    "Group dataframe by scenario and month<br>\n",
    "Export to file"
   ]
  },
  {
   "cell_type": "code",
   "execution_count": null,
   "metadata": {
    "scrolled": true
   },
   "outputs": [],
   "source": [
    "# Group by scenario and date/time for export to graphing\n",
    "MonthlyData95_2 = allMonthlyData95.groupby([\"Scenario\", \"Month\"], as_index=True)\n",
    "\n",
    "#MonthlyData95_2.sum()"
   ]
  },
  {
   "cell_type": "code",
   "execution_count": null,
   "metadata": {},
   "outputs": [],
   "source": [
    "MonthlyDataFinal95 = MonthlyData95_2.sum()\n",
    "\n",
    "MonthlyDataFinal95"
   ]
  },
  {
   "cell_type": "code",
   "execution_count": null,
   "metadata": {},
   "outputs": [],
   "source": [
    "# Drop Illuminance column...don't need the totals\n",
    "MonthlyDataFinal95.drop(columns = [\"Illuminance(lux)\"], axis=1, inplace=True)"
   ]
  },
  {
   "cell_type": "code",
   "execution_count": null,
   "metadata": {},
   "outputs": [],
   "source": [
    "# Export grouped file to csv (used before grouped by month)\n",
    "MonthlyDataFinal95.round(2).to_csv(\"../Regression_Scraper_Output/hou_monthly95_data.csv\", header=True, index=True)"
   ]
  },
  {
   "cell_type": "markdown",
   "metadata": {},
   "source": [
    "------\n",
    "\n",
    "## Get Hourly Energy Data\n",
    "Change units from Joules to kBtu to be able to combine heat, cool and fan<br>\n",
    "Drop unwanted columns"
   ]
  },
  {
   "cell_type": "code",
   "execution_count": null,
   "metadata": {},
   "outputs": [],
   "source": [
    "# Copy dataframe to modify and leave original df intact\n",
    "all_data95_3 = all_data95_1.copy(deep=True)\n",
    "\n",
    "#all_data95_3"
   ]
  },
  {
   "cell_type": "code",
   "execution_count": null,
   "metadata": {},
   "outputs": [],
   "source": [
    "# Get wanted columns\n",
    "# Include hourly illumance\n",
    "all_data95_3 = all_data95_3[[\"Scenario\",\n",
    "               \"Date/Time\",\n",
    "                             \"LIVING_UNIT1 DAYLIGHTINGCONTROLS:Daylighting Reference Point 1 Illuminance [lux](Hourly)\",\n",
    "                             \"SUPPLY FAN_UNIT1:Fan Electricity Energy [J](Hourly)\",\n",
    "                             \"MAIN GAS HEATING COIL_UNIT1:Heating Coil NaturalGas Energy [J](Hourly)\",\n",
    "                             \"DX COOLING COIL_UNIT1:Cooling Coil Electricity Energy [J](Hourly) \"\n",
    "                      ]]\n",
    "\n",
    "#all_data95_3"
   ]
  },
  {
   "cell_type": "code",
   "execution_count": null,
   "metadata": {},
   "outputs": [],
   "source": [
    "# Rename Columns\n",
    "get_hourly95 = all_data95_3.rename(columns={\"Scenario\":\"Scenario\",\n",
    "                              \"Date/Time\":\"Date_Time\",\n",
    "                             \"LIVING_UNIT1 DAYLIGHTINGCONTROLS:Daylighting Reference Point 1 Illuminance [lux](Hourly)\":\"Illuminance(lux)\",\n",
    "                             \"SUPPLY FAN_UNIT1:Fan Electricity Energy [J](Hourly)\":\"FanEnergy[J](Hourly)\",\n",
    "                             \"MAIN GAS HEATING COIL_UNIT1:Heating Coil NaturalGas Energy [J](Hourly)\":\"HeatingEnergy[J](Hourly)\",\n",
    "                             \"DX COOLING COIL_UNIT1:Cooling Coil Electricity Energy [J](Hourly) \":\"CoolingEnergy[J](Hourly) \"\n",
    "                             })\n",
    "\n",
    "#get_hourly95"
   ]
  },
  {
   "cell_type": "code",
   "execution_count": null,
   "metadata": {},
   "outputs": [],
   "source": [
    "# Convert Joules to kBtus in new dataframe\n",
    "get_hourly95[\"FanEnergy(kBtu)\"] = get_hourly95[\"FanEnergy[J](Hourly)\"] * .00000094781712\n",
    "get_hourly95[\"HeatingEnergy(kBtu)\"] = get_hourly95[\"HeatingEnergy[J](Hourly)\"] * .00000094781712\n",
    "get_hourly95[\"CoolingEnergy(kBtu)\"] = get_hourly95[\"CoolingEnergy[J](Hourly) \"] * .00000094781712\n",
    "\n",
    "#get_hourly95"
   ]
  },
  {
   "cell_type": "code",
   "execution_count": null,
   "metadata": {},
   "outputs": [],
   "source": [
    "# Drop columns\n",
    "get_hourly95.drop(columns = [\"FanEnergy[J](Hourly)\", \"HeatingEnergy[J](Hourly)\", \"CoolingEnergy[J](Hourly) \"], axis=1, inplace=True)\n",
    "\n",
    "#get_hourly95"
   ]
  },
  {
   "cell_type": "code",
   "execution_count": null,
   "metadata": {},
   "outputs": [],
   "source": [
    "#list(get_hourly95.columns.values)"
   ]
  },
  {
   "cell_type": "markdown",
   "metadata": {},
   "source": [
    "------\n",
    "\n",
    "## Get Hourly Cost Data\n",
    "Add cost multiplier, variable needs to be defined above"
   ]
  },
  {
   "cell_type": "code",
   "execution_count": null,
   "metadata": {},
   "outputs": [],
   "source": [
    "# Copy dataframe to modify and leave original df intact\n",
    "get_hourly95_costs = all_data95_3.copy(deep=True)\n",
    "\n",
    "#get_hourly95_costs"
   ]
  },
  {
   "cell_type": "code",
   "execution_count": null,
   "metadata": {},
   "outputs": [],
   "source": [
    "# Rename Columns\n",
    "get_hourly95_costs = get_hourly95_costs.rename(columns={\"Scenario\":\"Scenario\",\n",
    "                              \"Date/Time\":\"Date_Time\",\n",
    "                             \"LIVING_UNIT1 DAYLIGHTINGCONTROLS:Daylighting Reference Point 1 Illuminance [lux](Hourly)\":\"Illuminance(lux)\",\n",
    "                             \"SUPPLY FAN_UNIT1:Fan Electricity Energy [J](Hourly)\":\"FanEnergy[J](Hourly)\",\n",
    "                             \"MAIN GAS HEATING COIL_UNIT1:Heating Coil NaturalGas Energy [J](Hourly)\":\"HeatingEnergy[J](Hourly)\",\n",
    "                             \"DX COOLING COIL_UNIT1:Cooling Coil Electricity Energy [J](Hourly) \":\"CoolingEnergy[J](Hourly) \"\n",
    "                             })\n",
    "\n",
    "# get_hourly95_costs"
   ]
  },
  {
   "cell_type": "code",
   "execution_count": null,
   "metadata": {},
   "outputs": [],
   "source": [
    "# Convert Joules to KBtu in dataframe and add cost multiplier\n",
    "# Gas kbtu => Mbtu => therms: (kbtu/1000) * 10\n",
    "# Elec kbtu => Kwh (kbtu * .000000277777778)\n",
    "get_hourly95_costs[\"FanCost($)\"] = (get_hourly95_costs[\"FanEnergy[J](Hourly)\"] * .000000277777778) * elec\n",
    "get_hourly95_costs[\"HeatingCost($)\"] = ((get_hourly95_costs[\"HeatingEnergy[J](Hourly)\"] * .00000094781712)/1000) * 10  * gas\n",
    "get_hourly95_costs[\"CoolingCost($)\"] = (get_hourly95_costs[\"CoolingEnergy[J](Hourly) \"] * .000000277777778) * elec\n",
    "\n",
    "##get_hourly95_costs"
   ]
  },
  {
   "cell_type": "code",
   "execution_count": null,
   "metadata": {},
   "outputs": [],
   "source": [
    "# Drop columns\n",
    "get_hourly95_costs.drop(columns = [\"FanEnergy[J](Hourly)\", \"HeatingEnergy[J](Hourly)\", \"CoolingEnergy[J](Hourly) \"], axis=1, inplace=True)\n",
    "\n",
    "#get_hourly95_costs"
   ]
  },
  {
   "cell_type": "markdown",
   "metadata": {},
   "source": [
    "## Combine Hourly Energy and Cost Data\n",
    "Combine two dfs<br>\n",
    "Extract Date_Time<br>\n",
    "Export combine file"
   ]
  },
  {
   "cell_type": "code",
   "execution_count": null,
   "metadata": {
    "scrolled": true
   },
   "outputs": [],
   "source": [
    "# Combine data for energy and cost\n",
    "allHourlyData95 = pd.merge(get_hourly95, get_hourly95_costs, how=\"inner\")\n",
    "\n",
    "#allHourlyData95"
   ]
  },
  {
   "cell_type": "code",
   "execution_count": null,
   "metadata": {},
   "outputs": [],
   "source": [
    "#Extract hour, day, month.\n",
    "allHourlyData95[\"Month\"] = allHourlyData95.Date_Time.str.slice(0,3)\n",
    "allHourlyData95[\"Day\"] = allHourlyData95.Date_Time.str.slice(4,6)\n",
    "allHourlyData95[\"Hour\"] = allHourlyData95[\"Date_Time\"].astype(str).str[8:16]\n",
    "\n",
    "allHourlyData95"
   ]
  },
  {
   "cell_type": "code",
   "execution_count": null,
   "metadata": {},
   "outputs": [],
   "source": [
    "# Add energy and cost totals\n",
    "\n",
    "totalEnergyhourly95 = allHourlyData95[\"FanEnergy(kBtu)\"] + allHourlyData95[\"HeatingEnergy(kBtu)\"] + allHourlyData95[\"CoolingEnergy(kBtu)\"]\n",
    "totalCosthourly95 = allHourlyData95[\"FanCost($)\"] + allHourlyData95[\"HeatingCost($)\"] + allHourlyData95[\"CoolingCost($)\"]\n",
    "allHourlyData95[\"HourlyEnergy(kBtu)\"] = totalEnergyhourly95\n",
    "allHourlyData95[\"HourlyCost($)\"] = totalCosthourly95\n",
    "\n",
    "#allHourlyData95"
   ]
  },
  {
   "cell_type": "code",
   "execution_count": null,
   "metadata": {},
   "outputs": [],
   "source": [
    "# Export grouped file to csv (used before grouped by month)\n",
    "allHourlyData95.round(2).to_csv(\"../Regression_Scraper_Output/hou_hourly95_data.csv\", header=True, index=False)"
   ]
  },
  {
   "cell_type": "markdown",
   "metadata": {},
   "source": [
    "++++++++++++++++++++++++++++++++++++++++++++++++++++++++++++++++++++++++++++++++++++++++++++++++++++++++++++++++++++"
   ]
  },
  {
   "cell_type": "markdown",
   "metadata": {},
   "source": [
    "## ---\n",
    "\n",
    "## Combine v9.2 CSV Files in Directory"
   ]
  },
  {
   "cell_type": "code",
   "execution_count": null,
   "metadata": {},
   "outputs": [],
   "source": [
    "# Create variable for files in directory\n",
    "files = [f for f in os.listdir(\"data/92/hou/\") if f.endswith(\".csv\")]\n",
    "\n",
    "# files"
   ]
  },
  {
   "cell_type": "code",
   "execution_count": null,
   "metadata": {
    "scrolled": true
   },
   "outputs": [],
   "source": [
    "# https://stackoverflow.com/questions/63886787/how-to-create-a-dataframe-from-multiple-csv-files\n",
    "# Initialize and empty dataframe\n",
    "all_data92 = pd.DataFrame()\n",
    "\n",
    "# Iterate through files and contents, then concatenate the data into the dataframe\n",
    "for file in files:\n",
    "    df = pd.read_csv(\"data/92/hou/\" + file)\n",
    "    all_data92 = pd.concat([all_data92, df])\n",
    "    \n",
    "all_data92\n",
    "\n",
    "# 429240  rows, 214 columns"
   ]
  },
  {
   "cell_type": "code",
   "execution_count": null,
   "metadata": {},
   "outputs": [],
   "source": [
    "# Get wanted columns\n",
    "all_data92_1 = all_data92[[\"Scenario\",\n",
    "               \"Date/Time\",\n",
    "              \"LIVING_UNIT1 DAYLIGHTINGCONTROLS:Daylighting Reference Point 1 Illuminance [lux](Hourly)\",\n",
    "              \"SUPPLY FAN_UNIT1:Fan Electric Energy [J](Hourly)\",\n",
    "              \"MAIN GAS HEATING COIL_UNIT1:Heating Coil Gas Energy [J](Hourly)\",\n",
    "              \"DX COOLING COIL_UNIT1:Cooling Coil Electric Energy [J](Hourly) \"]]\n",
    "\n",
    "all_data92_1"
   ]
  },
  {
   "cell_type": "code",
   "execution_count": null,
   "metadata": {},
   "outputs": [],
   "source": [
    "# all_data92_1 = all_data92_1.dropna().reset_index(drop=True)\n",
    "\n",
    "# all_data92_1\n",
    "\n",
    "# #438000  rows, 73 columns"
   ]
  },
  {
   "cell_type": "markdown",
   "metadata": {},
   "source": [
    "-----\n",
    "\n",
    "## Get the Wanted Data (columns)"
   ]
  },
  {
   "cell_type": "code",
   "execution_count": null,
   "metadata": {
    "scrolled": true
   },
   "outputs": [],
   "source": [
    "# Rename Columns\n",
    "all_data92_2 = all_data92_1.rename(columns={\"Scenario\":\"Scenario\",\n",
    "                              \"Date/Time\":\"Date_Time\",\n",
    "                             \"LIVING_UNIT1 DAYLIGHTINGCONTROLS:Daylighting Reference Point 1 Illuminance [lux](Hourly)\":\"Illuminance(lux)\",\n",
    "                             \"SUPPLY FAN_UNIT1:Fan Electric Energy [J](Hourly)\":\"FanEnergy[J](Hourly)\",\n",
    "                             \"MAIN GAS HEATING COIL_UNIT1:Heating Coil Gas Energy [J](Hourly)\":\"HeatingEnergy[J](Hourly)\",\n",
    "                             \"DX COOLING COIL_UNIT1:Cooling Coil Electric Energy [J](Hourly) \":\"CoolingEnergy[J](Hourly) \"\n",
    "                             })\n",
    "\n",
    "#all_data92_2\n",
    "\n",
    "#438000  rows, 6 columns"
   ]
  },
  {
   "cell_type": "markdown",
   "metadata": {},
   "source": [
    "-----\n",
    "\n",
    "## Get Annual Energy Data\n",
    "Convert units from Joules to kBtu<br>\n",
    "Drop Illuminance column<br>\n"
   ]
  },
  {
   "cell_type": "code",
   "execution_count": null,
   "metadata": {},
   "outputs": [],
   "source": [
    "# Copy dataframe to modify and leave original df intact\n",
    "get_annual92 = all_data92_2.copy(deep=True)\n",
    "\n",
    "#get_annual92"
   ]
  },
  {
   "cell_type": "code",
   "execution_count": null,
   "metadata": {},
   "outputs": [],
   "source": [
    "# Convert Joules to KBtu in dataframe\n",
    "get_annual92[\"FanEnergy(kBtu)\"] = get_annual92[\"FanEnergy[J](Hourly)\"] * .00000094781712\n",
    "get_annual92[\"HeatingEnergy(kBtu)\"] = get_annual92[\"HeatingEnergy[J](Hourly)\"] * .00000094781712\n",
    "get_annual92[\"CoolingEnergy(kBtu)\"] = get_annual92[\"CoolingEnergy[J](Hourly) \"] * .00000094781712\n",
    "\n",
    "#get_annual92"
   ]
  },
  {
   "cell_type": "code",
   "execution_count": null,
   "metadata": {},
   "outputs": [],
   "source": [
    "#list(get_annual92.columns.values)"
   ]
  },
  {
   "cell_type": "code",
   "execution_count": null,
   "metadata": {},
   "outputs": [],
   "source": [
    "# Drop columns\n",
    "get_annual92.drop(columns = [\"FanEnergy[J](Hourly)\", \"HeatingEnergy[J](Hourly)\", \"CoolingEnergy[J](Hourly) \"], axis=1, inplace=True)\n",
    "\n",
    "#get_annual92"
   ]
  },
  {
   "cell_type": "markdown",
   "metadata": {},
   "source": [
    "---\n",
    "\n",
    "## Get Annual Cost Data\n",
    "Convert units from Joules to kWh and therms to use cost multiplier<br>\n",
    "Drop Illuminance column<br>\n",
    "Add cost multiplier, variables defined above"
   ]
  },
  {
   "cell_type": "code",
   "execution_count": null,
   "metadata": {},
   "outputs": [],
   "source": [
    "# Get annual costs\n",
    "get_annual92_costs = all_data92_2.copy(deep=True)"
   ]
  },
  {
   "cell_type": "code",
   "execution_count": null,
   "metadata": {},
   "outputs": [],
   "source": [
    "# Convert Joules to KBtu in dataframe and add cost multiplier\n",
    "# Gas kbtu => Mbtu => therms: (kbtu/1000) * 10\n",
    "# Elec kbtu => Kwh (kbtu * .000000277777778)\n",
    "get_annual92_costs[\"FanCost($)\"] = (get_annual92_costs[\"FanEnergy[J](Hourly)\"] * .000000277777778) * elec\n",
    "get_annual92_costs[\"HeatingCost($)\"] = ((get_annual92_costs[\"HeatingEnergy[J](Hourly)\"] * .00000094781712)/1000) * 10  * gas\n",
    "get_annual92_costs[\"CoolingCost($)\"] = (get_annual92_costs[\"CoolingEnergy[J](Hourly) \"] * .000000277777778) * elec\n",
    "\n",
    "#get_annual92_costs"
   ]
  },
  {
   "cell_type": "code",
   "execution_count": null,
   "metadata": {},
   "outputs": [],
   "source": [
    "# Drop columns\n",
    "get_annual92_costs.drop(columns = [\"Illuminance(lux)\",\"FanEnergy[J](Hourly)\", \"HeatingEnergy[J](Hourly)\", \"CoolingEnergy[J](Hourly) \"], axis=1, inplace=True)\n",
    "\n",
    "#get_annual92_costs"
   ]
  },
  {
   "cell_type": "markdown",
   "metadata": {},
   "source": [
    "---\n",
    "\n",
    "## Combine Annual Energy and Cost Data\n",
    "Combine two dfs<br>\n",
    "Export combine file"
   ]
  },
  {
   "cell_type": "code",
   "execution_count": null,
   "metadata": {},
   "outputs": [],
   "source": [
    "# Combine data for energy and cost\n",
    "allAnnualData92 = pd.merge(get_annual92, get_annual92_costs)\n",
    "\n",
    "#allAnnualData2"
   ]
  },
  {
   "cell_type": "code",
   "execution_count": null,
   "metadata": {},
   "outputs": [],
   "source": [
    "# Add energy and cost totals\n",
    "totalEnergy92 = allAnnualData92[\"FanEnergy(kBtu)\"] + allAnnualData92[\"HeatingEnergy(kBtu)\"] + allAnnualData92[\"CoolingEnergy(kBtu)\"]\n",
    "allAnnualData92[\"AnnualEnergy(kBtu)\"] = totalEnergy92\n",
    "\n",
    "totalCost92 = allAnnualData92[\"FanCost($)\"] + allAnnualData92[\"HeatingCost($)\"] + allAnnualData92[\"CoolingCost($)\"]\n",
    "allAnnualData92[\"AnnualCost($)\"] = totalCost92\n",
    "\n",
    "#allAnnualData92"
   ]
  },
  {
   "cell_type": "code",
   "execution_count": null,
   "metadata": {},
   "outputs": [],
   "source": [
    "#list(allAnnualData92.columns.values)"
   ]
  },
  {
   "cell_type": "markdown",
   "metadata": {},
   "source": [
    "---\n",
    "## Group and Export Annual Data\n",
    "Group dataframe by scenario<br>\n",
    "Export to file"
   ]
  },
  {
   "cell_type": "code",
   "execution_count": null,
   "metadata": {},
   "outputs": [],
   "source": [
    "# Group by scenario\n",
    "annualData92 = allAnnualData92.groupby([\"Scenario\"], as_index=True)\n",
    "\n",
    "#annualData92.sum().round(2)"
   ]
  },
  {
   "cell_type": "code",
   "execution_count": null,
   "metadata": {},
   "outputs": [],
   "source": [
    "annualDataFinal92 = annualData92.sum().round(2)\n",
    "\n",
    "#annualDataFinal92"
   ]
  },
  {
   "cell_type": "code",
   "execution_count": null,
   "metadata": {},
   "outputs": [],
   "source": [
    "# Export grouped file to csv\n",
    "annualDataFinal92.to_csv(\"../Regression_Scraper_Output/hou_annual92_data.csv\", header=True, index=True)"
   ]
  },
  {
   "cell_type": "markdown",
   "metadata": {},
   "source": [
    "-----\n",
    "\n",
    "## Get Monthly Energy Data\n",
    "Change units from Joules to therms and kWh for costs only, convert to kbtu for data<br>\n",
    "No baseline data used in monthly export due to differing units of energy, refer to annual and hourly.<br>\n",
    "Drop unwanted columns"
   ]
  },
  {
   "cell_type": "code",
   "execution_count": null,
   "metadata": {},
   "outputs": [],
   "source": [
    "# Copy dataframe to modify and leave original df intact\n",
    "get_monthly92 = all_data92_2.copy(deep=True)\n",
    "\n",
    "get_monthly92"
   ]
  },
  {
   "cell_type": "code",
   "execution_count": null,
   "metadata": {},
   "outputs": [],
   "source": [
    "# Convert Joules to kWh and therms in new dataframe\n",
    "get_monthly92[\"FanEnergy(kBtu)\"] = get_monthly92[\"FanEnergy[J](Hourly)\"] * .00000094781712\n",
    "get_monthly92[\"HeatingEnergy(kBtu)\"] = get_monthly92[\"HeatingEnergy[J](Hourly)\"] * .00000094781712\n",
    "get_monthly92[\"CoolingEnergy(kBtu)\"] = get_monthly92[\"CoolingEnergy[J](Hourly) \"] * .00000094781712\n",
    "\n",
    "#get_monthly92"
   ]
  },
  {
   "cell_type": "code",
   "execution_count": null,
   "metadata": {},
   "outputs": [],
   "source": [
    "# Drop columns\n",
    "get_monthly92.drop(columns = [\"FanEnergy[J](Hourly)\", \"HeatingEnergy[J](Hourly)\", \"CoolingEnergy[J](Hourly) \"], axis=1, inplace=True)\n",
    "\n",
    "#get_monthly92"
   ]
  },
  {
   "cell_type": "markdown",
   "metadata": {},
   "source": [
    "## Get Monthly Cost Data\n",
    "\n",
    "Change units from Joules to therms and kWh<br>\n",
    "Add cost multiplier, variable needs to be defined above"
   ]
  },
  {
   "cell_type": "code",
   "execution_count": null,
   "metadata": {},
   "outputs": [],
   "source": [
    "# Copy dataframe to modify and leave original df intact\n",
    "get_monthly92_costs = all_data92_2.copy(deep=True)\n",
    "\n",
    "#get_monthly92"
   ]
  },
  {
   "cell_type": "code",
   "execution_count": null,
   "metadata": {},
   "outputs": [],
   "source": [
    "# Convert Joules to KBtu in dataframe and add cost multiplier\n",
    "# Gas kbtu => Mbtu => therms: (kbtu/1000) * 10\n",
    "# Elec kbtu => Kwh (kbtu * .000000277777778)\n",
    "get_monthly92_costs[\"FanCost($)\"] = (get_monthly92_costs[\"FanEnergy[J](Hourly)\"] * .000000277777778) * elec\n",
    "get_monthly92_costs[\"HeatingCost($)\"] = ((get_monthly92_costs[\"HeatingEnergy[J](Hourly)\"] * .00000094781712)/1000) * 10  * gas\n",
    "get_monthly92_costs[\"CoolingCost($)\"] = (get_monthly92_costs[\"CoolingEnergy[J](Hourly) \"] * .000000277777778) * elec\n",
    "\n",
    "#get_monthly92_costs"
   ]
  },
  {
   "cell_type": "code",
   "execution_count": null,
   "metadata": {},
   "outputs": [],
   "source": [
    "# Drop columns\n",
    "get_monthly92_costs.drop(columns = [\"FanEnergy[J](Hourly)\", \"HeatingEnergy[J](Hourly)\", \"CoolingEnergy[J](Hourly) \"], axis=1, inplace=True)\n",
    "\n",
    "#get_monthly92_costs"
   ]
  },
  {
   "cell_type": "markdown",
   "metadata": {},
   "source": [
    "---\n",
    "\n",
    "## Combine Monthly Energy and Cost Data\n",
    "Combine two dfs<br>\n",
    "Create Month Column<br>\n",
    "Export combine file"
   ]
  },
  {
   "cell_type": "code",
   "execution_count": null,
   "metadata": {},
   "outputs": [],
   "source": [
    "# Combine data for energy and cost\n",
    "allMonthlyData92 = pd.merge(get_monthly92, get_monthly92_costs, how=\"inner\")\n",
    "\n",
    "#allMonthlyData92"
   ]
  },
  {
   "cell_type": "code",
   "execution_count": null,
   "metadata": {},
   "outputs": [],
   "source": [
    "# Add energy and cost totals\n",
    "\n",
    "totalEnergyMonthly92 = allMonthlyData92[\"FanEnergy(kBtu)\"] + allMonthlyData92[\"HeatingEnergy(kBtu)\"] + allMonthlyData92[\"CoolingEnergy(kBtu)\"]\n",
    "totalCostMonthly92 = allMonthlyData92[\"FanCost($)\"] + allMonthlyData92[\"HeatingCost($)\"] + allMonthlyData92[\"CoolingCost($)\"]\n",
    "allMonthlyData92[\"MonthlyEnergy(kBtu)\"] = totalEnergyMonthly92\n",
    "allMonthlyData92[\"MonthlyCost($)\"] = totalCostMonthly92\n",
    "\n",
    "#allMonthlyData92"
   ]
  },
  {
   "cell_type": "code",
   "execution_count": null,
   "metadata": {
    "scrolled": true
   },
   "outputs": [],
   "source": [
    "allMonthlyData92[\"Month\"] = allMonthlyData92.Date_Time.str.slice(0,3)\n",
    "\n",
    "allMonthlyData92"
   ]
  },
  {
   "cell_type": "markdown",
   "metadata": {},
   "source": [
    "## Group and Export Monthly Data\n",
    "Group dataframe by scenario and month<br>\n",
    "Export to file"
   ]
  },
  {
   "cell_type": "code",
   "execution_count": null,
   "metadata": {
    "scrolled": true
   },
   "outputs": [],
   "source": [
    "# Group by scenario and date/time for export to graphing\n",
    "MonthlyData92_2 = allMonthlyData92.groupby([\"Scenario\", \"Month\"], as_index=True)\n",
    "\n",
    "#MonthlyData92_2.sum()"
   ]
  },
  {
   "cell_type": "code",
   "execution_count": null,
   "metadata": {},
   "outputs": [],
   "source": [
    "MonthlyDataFinal92 = MonthlyData92_2.sum()\n",
    "\n",
    "#MonthlyDataFinal92"
   ]
  },
  {
   "cell_type": "code",
   "execution_count": null,
   "metadata": {},
   "outputs": [],
   "source": [
    "# Drop Illuminance column...don't need the totals\n",
    "MonthlyDataFinal92.drop(columns = [\"Illuminance(lux)\"], axis=1, inplace=True)"
   ]
  },
  {
   "cell_type": "code",
   "execution_count": null,
   "metadata": {},
   "outputs": [],
   "source": [
    "# Export grouped file to csv (used before grouped by month)\n",
    "MonthlyDataFinal92.round(2).to_csv(\"../Regression_Scraper_Output/hou_monthly92_data.csv\", header=True, index=True)"
   ]
  },
  {
   "cell_type": "markdown",
   "metadata": {},
   "source": [
    "------\n",
    "\n",
    "## Get Hourly Energy Data\n",
    "Change units from Joules to kBtu to be able to combine heat, cool and fan<br>\n",
    "Drop unwanted columns"
   ]
  },
  {
   "cell_type": "code",
   "execution_count": null,
   "metadata": {},
   "outputs": [],
   "source": [
    "# Copy dataframe to modify and leave original df intact\n",
    "all_data92_3 = all_data92_1.copy(deep=True)\n",
    "\n",
    "#all_data92_3"
   ]
  },
  {
   "cell_type": "code",
   "execution_count": null,
   "metadata": {},
   "outputs": [],
   "source": [
    "# Get wanted columns\n",
    "# Include hourly illumance\n",
    "all_data92_3 = all_data92_3[[\"Scenario\",\n",
    "               \"Date/Time\",\n",
    "              \"LIVING_UNIT1 DAYLIGHTINGCONTROLS:Daylighting Reference Point 1 Illuminance [lux](Hourly)\",\n",
    "              \"SUPPLY FAN_UNIT1:Fan Electric Energy [J](Hourly)\",\n",
    "              \"MAIN GAS HEATING COIL_UNIT1:Heating Coil Gas Energy [J](Hourly)\",\n",
    "              \"DX COOLING COIL_UNIT1:Cooling Coil Electric Energy [J](Hourly) \"]]\n",
    "#all_data92_3"
   ]
  },
  {
   "cell_type": "code",
   "execution_count": null,
   "metadata": {},
   "outputs": [],
   "source": [
    "# Rename Columns\n",
    "get_hourly92 = all_data92_3.rename(columns={\"Scenario\":\"Scenario\",\n",
    "                              \"Date/Time\":\"Date_Time\",\n",
    "                             \"LIVING_UNIT1 DAYLIGHTINGCONTROLS:Daylighting Reference Point 1 Illuminance [lux](Hourly)\":\"Illuminance(lux)\",\n",
    "                             \"SUPPLY FAN_UNIT1:Fan Electric Energy [J](Hourly)\":\"FanEnergy[J](Hourly)\",\n",
    "                             \"MAIN GAS HEATING COIL_UNIT1:Heating Coil Gas Energy [J](Hourly)\":\"HeatingEnergy[J](Hourly)\",\n",
    "                             \"DX COOLING COIL_UNIT1:Cooling Coil Electric Energy [J](Hourly) \":\"CoolingEnergy[J](Hourly) \"\n",
    "                             })\n",
    "\n",
    "#get_hourly92"
   ]
  },
  {
   "cell_type": "code",
   "execution_count": null,
   "metadata": {},
   "outputs": [],
   "source": [
    "# Convert Joules to kBtus in new dataframe\n",
    "get_hourly92[\"FanEnergy(kBtu)\"] = get_hourly92[\"FanEnergy[J](Hourly)\"] * .00000094781712\n",
    "get_hourly92[\"HeatingEnergy(kBtu)\"] = get_hourly92[\"HeatingEnergy[J](Hourly)\"] * .00000094781712\n",
    "get_hourly92[\"CoolingEnergy(kBtu)\"] = get_hourly92[\"CoolingEnergy[J](Hourly) \"] * .00000094781712\n",
    "\n",
    "#get_hourly92"
   ]
  },
  {
   "cell_type": "code",
   "execution_count": null,
   "metadata": {},
   "outputs": [],
   "source": [
    "# Drop columns\n",
    "get_hourly92.drop(columns = [\"FanEnergy[J](Hourly)\", \"HeatingEnergy[J](Hourly)\", \"CoolingEnergy[J](Hourly) \"], axis=1, inplace=True)\n",
    "\n",
    "#get_hourly92"
   ]
  },
  {
   "cell_type": "code",
   "execution_count": null,
   "metadata": {},
   "outputs": [],
   "source": [
    "#list(get_hourly92.columns.values)"
   ]
  },
  {
   "cell_type": "markdown",
   "metadata": {},
   "source": [
    "------\n",
    "\n",
    "## Get Hourly Cost Data\n",
    "Add cost multiplier, variable needs to be defined above"
   ]
  },
  {
   "cell_type": "code",
   "execution_count": null,
   "metadata": {},
   "outputs": [],
   "source": [
    "# Copy dataframe to modify and leave original df intact\n",
    "get_hourly92_costs = all_data92_3.copy(deep=True)\n",
    "\n",
    "#get_hourly92_costs"
   ]
  },
  {
   "cell_type": "code",
   "execution_count": null,
   "metadata": {},
   "outputs": [],
   "source": [
    "# Rename Columns\n",
    "get_hourly92_costs = get_hourly92_costs.rename(columns={\"Scenario\":\"Scenario\",\n",
    "                              \"Date/Time\":\"Date_Time\",\n",
    "                             \"LIVING_UNIT1 DAYLIGHTINGCONTROLS:Daylighting Reference Point 1 Illuminance [lux](Hourly)\":\"Illuminance(lux)\",\n",
    "                             \"SUPPLY FAN_UNIT1:Fan Electric Energy [J](Hourly)\":\"FanEnergy[J](Hourly)\",\n",
    "                             \"MAIN GAS HEATING COIL_UNIT1:Heating Coil Gas Energy [J](Hourly)\":\"HeatingEnergy[J](Hourly)\",\n",
    "                             \"DX COOLING COIL_UNIT1:Cooling Coil Electric Energy [J](Hourly) \":\"CoolingEnergy[J](Hourly) \"\n",
    "                             })\n",
    "\n",
    "# get_hourly92_costs"
   ]
  },
  {
   "cell_type": "code",
   "execution_count": null,
   "metadata": {},
   "outputs": [],
   "source": [
    "# Convert Joules to KBtu in dataframe and add cost multiplier\n",
    "# Gas kbtu => Mbtu => therms: (kbtu/1000) * 10\n",
    "# Elec kbtu => Kwh (kbtu * .000000277777778)\n",
    "get_hourly92_costs[\"FanCost($)\"] = (get_hourly92_costs[\"FanEnergy[J](Hourly)\"] * .000000277777778) * elec\n",
    "get_hourly92_costs[\"HeatingCost($)\"] = ((get_hourly92_costs[\"HeatingEnergy[J](Hourly)\"] * .00000094781712)/1000) * 10  * gas\n",
    "get_hourly92_costs[\"CoolingCost($)\"] = (get_hourly92_costs[\"CoolingEnergy[J](Hourly) \"] * .000000277777778) * elec\n",
    "\n",
    "##get_hourly92_costs"
   ]
  },
  {
   "cell_type": "code",
   "execution_count": null,
   "metadata": {},
   "outputs": [],
   "source": [
    "# Drop columns\n",
    "get_hourly92_costs.drop(columns = [\"FanEnergy[J](Hourly)\", \"HeatingEnergy[J](Hourly)\", \"CoolingEnergy[J](Hourly) \"], axis=1, inplace=True)\n",
    "\n",
    "#get_hourly92_costs"
   ]
  },
  {
   "cell_type": "markdown",
   "metadata": {},
   "source": [
    "## Combine Hourly Energy and Cost Data\n",
    "Combine two dfs<br>\n",
    "Extract Date_Time<br>\n",
    "Export combine file"
   ]
  },
  {
   "cell_type": "code",
   "execution_count": null,
   "metadata": {
    "scrolled": true
   },
   "outputs": [],
   "source": [
    "# Combine data for energy and cost\n",
    "allHourlyData92 = pd.merge(get_hourly92, get_hourly92_costs, how=\"inner\")\n",
    "\n",
    "#allHourlyData92"
   ]
  },
  {
   "cell_type": "code",
   "execution_count": null,
   "metadata": {},
   "outputs": [],
   "source": [
    "#Extract hour, day, month.\n",
    "allHourlyData92[\"Month\"] = allHourlyData92.Date_Time.str.slice(0,3)\n",
    "allHourlyData92[\"Day\"] = allHourlyData92.Date_Time.str.slice(4,6)\n",
    "allHourlyData92[\"Hour\"] = allHourlyData92[\"Date_Time\"].astype(str).str[8:16]\n",
    "\n",
    "allHourlyData92"
   ]
  },
  {
   "cell_type": "code",
   "execution_count": null,
   "metadata": {},
   "outputs": [],
   "source": [
    "# Add energy and cost totals\n",
    "\n",
    "totalEnergyhourly92 = allHourlyData92[\"FanEnergy(kBtu)\"] + allHourlyData92[\"HeatingEnergy(kBtu)\"] + allHourlyData92[\"CoolingEnergy(kBtu)\"]\n",
    "totalCosthourly92 = allHourlyData92[\"FanCost($)\"] + allHourlyData92[\"HeatingCost($)\"] + allHourlyData92[\"CoolingCost($)\"]\n",
    "allHourlyData92[\"HourlyEnergy(kBtu)\"] = totalEnergyhourly92\n",
    "allHourlyData92[\"HourlyCost($)\"] = totalCosthourly92\n",
    "\n",
    "#allHourlyData92"
   ]
  },
  {
   "cell_type": "code",
   "execution_count": null,
   "metadata": {},
   "outputs": [],
   "source": [
    "# Export grouped file to csv (used before grouped by month)\n",
    "allHourlyData92.round(2).to_csv(\"../Regression_Scraper_Output/hou_hourly92_data.csv\", header=True, index=False)"
   ]
  }
 ],
 "metadata": {
  "kernelspec": {
   "display_name": "Python 3",
   "language": "python",
   "name": "python3"
  },
  "language_info": {
   "codemirror_mode": {
    "name": "ipython",
    "version": 3
   },
   "file_extension": ".py",
   "mimetype": "text/x-python",
   "name": "python",
   "nbconvert_exporter": "python",
   "pygments_lexer": "ipython3",
   "version": "3.6.10"
  },
  "varInspector": {
   "cols": {
    "lenName": 16,
    "lenType": 16,
    "lenVar": 40
   },
   "kernels_config": {
    "python": {
     "delete_cmd_postfix": "",
     "delete_cmd_prefix": "del ",
     "library": "var_list.py",
     "varRefreshCmd": "print(var_dic_list())"
    },
    "r": {
     "delete_cmd_postfix": ") ",
     "delete_cmd_prefix": "rm(",
     "library": "var_list.r",
     "varRefreshCmd": "cat(var_dic_list()) "
    }
   },
   "types_to_exclude": [
    "module",
    "function",
    "builtin_function_or_method",
    "instance",
    "_Feature"
   ],
   "window_display": false
  }
 },
 "nbformat": 4,
 "nbformat_minor": 2
}
