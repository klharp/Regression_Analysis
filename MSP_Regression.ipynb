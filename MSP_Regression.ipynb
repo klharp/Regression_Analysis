{
 "cells": [
  {
   "cell_type": "markdown",
   "metadata": {},
   "source": [
    "# Minneapolis, MN Regressions\n",
    "Regressions to compare E+ v9.2 and v9.5 outputs "
   ]
  },
  {
   "cell_type": "code",
   "execution_count": 1,
   "metadata": {},
   "outputs": [],
   "source": [
    "# Dependencies\n",
    "import pandas as pd\n",
    "from matplotlib import pyplot as plt\n",
    "from sklearn import linear_model\n",
    "import numpy as np\n",
    "import statsmodels.api as sm"
   ]
  },
  {
   "cell_type": "markdown",
   "metadata": {},
   "source": [
    "---\n",
    "\n",
    "## Annual Data"
   ]
  },
  {
   "cell_type": "code",
   "execution_count": 2,
   "metadata": {
    "scrolled": true
   },
   "outputs": [],
   "source": [
    "msp_annual95=pd.read_csv(\"data/msp_annual95_data.csv\")\n",
    "# msp_annual95"
   ]
  },
  {
   "cell_type": "code",
   "execution_count": 3,
   "metadata": {},
   "outputs": [],
   "source": [
    "msp_annual92=pd.read_csv(\"data/msp_annual92_data.csv\")\n",
    "# msp_annual92"
   ]
  },
  {
   "cell_type": "markdown",
   "metadata": {},
   "source": [
    "## Merge df with performance attributes"
   ]
  },
  {
   "cell_type": "code",
   "execution_count": 4,
   "metadata": {},
   "outputs": [],
   "source": [
    "# Read in U and SHGC values\n",
    "performance=pd.read_csv(\"data/para_values.csv\")\n",
    "#performance"
   ]
  },
  {
   "cell_type": "code",
   "execution_count": 5,
   "metadata": {},
   "outputs": [],
   "source": [
    "# Merge the csv with the with the window performance attributes\n",
    "msp_annual95_all = pd.merge(msp_annual95, performance, on=\"Scenario\")\n",
    "\n",
    "# msp_annual95_all.set_index([\"Scenario\"], inplace=True)\n",
    "# msp_annual95_all"
   ]
  },
  {
   "cell_type": "code",
   "execution_count": 6,
   "metadata": {},
   "outputs": [],
   "source": [
    "msp_annual92_all = pd.merge(msp_annual92, performance, on=\"Scenario\")\n",
    "\n",
    "# msp_annual92_all.set_index([\"Scenario\"], inplace=True)\n",
    "# msp_annual92_all"
   ]
  },
  {
   "cell_type": "markdown",
   "metadata": {},
   "source": [
    "## Get the energy data"
   ]
  },
  {
   "cell_type": "code",
   "execution_count": 7,
   "metadata": {},
   "outputs": [],
   "source": [
    "# Drop unwanted columns, keep scenario, energy, U and SHGC and reset index\n",
    "msp_annual95_energy = msp_annual95_all[[\"Scenario\", \"AnnualEnergy(kBtu)\", \"AnnualEnergy(kBtu/sf)\", \"U-factor\", \"SHGC\"]]\n",
    "\n",
    "# msp_annual95_cost.set_index([\"Scenario\"], inplace=True)\n",
    "# msp_annual95_energy"
   ]
  },
  {
   "cell_type": "code",
   "execution_count": 8,
   "metadata": {},
   "outputs": [],
   "source": [
    "msp_annual92_energy = msp_annual92_all[[\"Scenario\", \"AnnualEnergy(kBtu)\", \"AnnualEnergy(kBtu/sf)\", \"U-factor\", \"SHGC\"]]\n",
    "\n",
    "# msp_annual95_cost.set_index([\"Scenario\"], inplace=True)\n",
    "# msp_annual92_energy"
   ]
  },
  {
   "cell_type": "markdown",
   "metadata": {},
   "source": [
    "## Get the cost data"
   ]
  },
  {
   "cell_type": "code",
   "execution_count": 9,
   "metadata": {},
   "outputs": [],
   "source": [
    "# Drop unwanted columns, keep scenario, costs, U and SHGC and reset index\n",
    "msp_annual95_cost = msp_annual95_all[[\"Scenario\", \"AnnualCost($)\", \"AnnualCost($/sf)\", \"U-factor\", \"SHGC\"]]\n",
    "\n",
    "# msp_monthly95_cost.set_index([\"Scenario\"], inplace=True)\n",
    "# msp_annual95_cost"
   ]
  },
  {
   "cell_type": "code",
   "execution_count": 10,
   "metadata": {},
   "outputs": [],
   "source": [
    "msp_annual92_cost = msp_annual92_all[[\"Scenario\", \"AnnualCost($)\", \"AnnualCost($/sf)\", \"U-factor\", \"SHGC\"]]\n",
    "\n",
    "# msp_monthly95_cost.set_index([\"Scenario\"], inplace=True)\n",
    "# msp_annual92_cost"
   ]
  },
  {
   "cell_type": "markdown",
   "metadata": {},
   "source": [
    "------\n",
    "\n",
    "## Regression for Annual Energy (kBtu)"
   ]
  },
  {
   "cell_type": "code",
   "execution_count": 11,
   "metadata": {},
   "outputs": [],
   "source": [
    "# Rename df for multiple regressions\n",
    "msp_annual95_EUI = msp_annual95_energy\n",
    "msp_annual92_EUI = msp_annual92_energy"
   ]
  },
  {
   "cell_type": "code",
   "execution_count": 12,
   "metadata": {},
   "outputs": [
    {
     "name": "stdout",
     "output_type": "stream",
     "text": [
      "Intercept: \n",
      " 101251.92346938777\n",
      "Coefficients: \n",
      " [ 66850.27295918 -19955.325     ]\n"
     ]
    }
   ],
   "source": [
    "# Define X and Y\n",
    "X = msp_annual95_EUI[[\"U-factor\", \"SHGC\"]]\n",
    "y = msp_annual95_EUI[\"AnnualEnergy(kBtu)\"]\n",
    "\n",
    "# Use sklearn\n",
    "regr = linear_model.LinearRegression()\n",
    "regr.fit(X,y)\n",
    "\n",
    "print(\"Intercept: \\n\", regr.intercept_)\n",
    "print(\"Coefficients: \\n\", regr.coef_)"
   ]
  },
  {
   "cell_type": "code",
   "execution_count": 13,
   "metadata": {},
   "outputs": [
    {
     "name": "stdout",
     "output_type": "stream",
     "text": [
      "Intercept: \n",
      " 101885.99081632652\n",
      "Coefficients: \n",
      " [ 66841.39642857 -20237.06122449]\n"
     ]
    }
   ],
   "source": [
    "# Define X and Y\n",
    "X = msp_annual92_EUI[[\"U-factor\", \"SHGC\"]]\n",
    "y = msp_annual92_EUI[\"AnnualEnergy(kBtu)\"]\n",
    "\n",
    "# Use sklearn\n",
    "regr = linear_model.LinearRegression()\n",
    "regr.fit(X,y)\n",
    "\n",
    "print(\"Intercept: \\n\", regr.intercept_)\n",
    "print(\"Coefficients: \\n\", regr.coef_)"
   ]
  },
  {
   "cell_type": "markdown",
   "metadata": {},
   "source": [
    "## Regression for Annual EUI (kBtu/sf)"
   ]
  },
  {
   "cell_type": "code",
   "execution_count": 14,
   "metadata": {},
   "outputs": [],
   "source": [
    "# Rename df for multiple regressions\n",
    "msp_annual95_EUIsf = msp_annual95_energy\n",
    "msp_annual92_EUIsf = msp_annual92_energy"
   ]
  },
  {
   "cell_type": "code",
   "execution_count": 15,
   "metadata": {},
   "outputs": [
    {
     "name": "stdout",
     "output_type": "stream",
     "text": [
      "Intercept: \n",
      " 42.18714285714286\n",
      "Coefficients: \n",
      " [27.85714286 -8.31428571]\n"
     ]
    }
   ],
   "source": [
    "# Define X and Y\n",
    "X = msp_annual95_EUIsf[[\"U-factor\", \"SHGC\"]]\n",
    "y = msp_annual95_EUIsf[\"AnnualEnergy(kBtu/sf)\"]\n",
    "\n",
    "# Use sklearn\n",
    "regr = linear_model.LinearRegression()\n",
    "regr.fit(X,y)\n",
    "\n",
    "print(\"Intercept: \\n\", regr.intercept_)\n",
    "print(\"Coefficients: \\n\", regr.coef_)"
   ]
  },
  {
   "cell_type": "code",
   "execution_count": 16,
   "metadata": {},
   "outputs": [
    {
     "name": "stdout",
     "output_type": "stream",
     "text": [
      "Intercept: \n",
      " 42.451632653061225\n",
      "Coefficients: \n",
      " [27.85153061 -8.43010204]\n"
     ]
    }
   ],
   "source": [
    "# Define X and Y\n",
    "X = msp_annual92_EUIsf[[\"U-factor\", \"SHGC\"]]\n",
    "y = msp_annual92_EUIsf[\"AnnualEnergy(kBtu/sf)\"]\n",
    "\n",
    "# Use sklearn\n",
    "regr = linear_model.LinearRegression()\n",
    "regr.fit(X,y)\n",
    "\n",
    "print(\"Intercept: \\n\", regr.intercept_)\n",
    "print(\"Coefficients: \\n\", regr.coef_)"
   ]
  },
  {
   "cell_type": "markdown",
   "metadata": {},
   "source": [
    "------\n",
    "\n",
    "## Regression for Annual Cost( $)"
   ]
  },
  {
   "cell_type": "code",
   "execution_count": 17,
   "metadata": {},
   "outputs": [],
   "source": [
    "# Rename df for multiple regressions\n",
    "msp_annual95_EUIcost = msp_annual95_cost\n",
    "msp_annual92_EUIcost = msp_annual92_cost"
   ]
  },
  {
   "cell_type": "code",
   "execution_count": 18,
   "metadata": {},
   "outputs": [
    {
     "name": "stdout",
     "output_type": "stream",
     "text": [
      "Intercept: \n",
      " 995.8597959183676\n",
      "Coefficients: \n",
      " [537.36632653 165.61683673]\n"
     ]
    }
   ],
   "source": [
    "# Define X and Y\n",
    "X = msp_annual95_EUIcost[[\"U-factor\", \"SHGC\"]]\n",
    "y = msp_annual95_EUIcost[\"AnnualCost($)\"]\n",
    "\n",
    "# Use sklearn\n",
    "regr = linear_model.LinearRegression()\n",
    "regr.fit(X,y)\n",
    "\n",
    "print(\"Intercept: \\n\", regr.intercept_)\n",
    "print(\"Coefficients: \\n\", regr.coef_)"
   ]
  },
  {
   "cell_type": "code",
   "execution_count": 19,
   "metadata": {},
   "outputs": [
    {
     "name": "stdout",
     "output_type": "stream",
     "text": [
      "Intercept: \n",
      " 986.8063265306123\n",
      "Coefficients: \n",
      " [551.47602041 147.51581633]\n"
     ]
    }
   ],
   "source": [
    "# Define X and Y\n",
    "X = msp_annual92_EUIcost[[\"U-factor\", \"SHGC\"]]\n",
    "y = msp_annual92_EUIcost[\"AnnualCost($)\"]\n",
    "\n",
    "# Use sklearn\n",
    "regr = linear_model.LinearRegression()\n",
    "regr.fit(X,y)\n",
    "\n",
    "print(\"Intercept: \\n\", regr.intercept_)\n",
    "print(\"Coefficients: \\n\", regr.coef_)"
   ]
  },
  {
   "cell_type": "markdown",
   "metadata": {},
   "source": [
    "## Regression for Annual Cost ($/sf)"
   ]
  },
  {
   "cell_type": "code",
   "execution_count": 20,
   "metadata": {},
   "outputs": [],
   "source": [
    "# Rename df for multiple regressions\n",
    "msp_annual95_EUIcostsf = msp_annual95_cost\n",
    "msp_annual92_EUIcostsf = msp_annual92_cost"
   ]
  },
  {
   "cell_type": "code",
   "execution_count": 21,
   "metadata": {},
   "outputs": [
    {
     "name": "stdout",
     "output_type": "stream",
     "text": [
      "Intercept: \n",
      " 0.41326530612244905\n",
      "Coefficients: \n",
      " [0.22857143 0.06887755]\n"
     ]
    }
   ],
   "source": [
    "# Define X and Y\n",
    "X = msp_annual95_EUIcostsf[[\"U-factor\", \"SHGC\"]]\n",
    "y = msp_annual95_EUIcostsf[\"AnnualCost($/sf)\"]\n",
    "\n",
    "# Use sklearn\n",
    "regr = linear_model.LinearRegression()\n",
    "regr.fit(X,y)\n",
    "\n",
    "print(\"Intercept: \\n\", regr.intercept_)\n",
    "print(\"Coefficients: \\n\", regr.coef_)"
   ]
  },
  {
   "cell_type": "code",
   "execution_count": 22,
   "metadata": {},
   "outputs": [
    {
     "name": "stdout",
     "output_type": "stream",
     "text": [
      "Intercept: \n",
      " 0.40877551020408165\n",
      "Coefficients: \n",
      " [0.23418367 0.06173469]\n"
     ]
    }
   ],
   "source": [
    "# Define X and Y\n",
    "X = msp_annual92_EUIcostsf[[\"U-factor\", \"SHGC\"]]\n",
    "y = msp_annual92_EUIcostsf[\"AnnualCost($/sf)\"]\n",
    "\n",
    "# Use sklearn\n",
    "regr = linear_model.LinearRegression()\n",
    "regr.fit(X,y)\n",
    "\n",
    "print(\"Intercept: \\n\", regr.intercept_)\n",
    "print(\"Coefficients: \\n\", regr.coef_)"
   ]
  },
  {
   "cell_type": "code",
   "execution_count": null,
   "metadata": {},
   "outputs": [],
   "source": []
  }
 ],
 "metadata": {
  "kernelspec": {
   "display_name": "Python 3",
   "language": "python",
   "name": "python3"
  },
  "language_info": {
   "codemirror_mode": {
    "name": "ipython",
    "version": 3
   },
   "file_extension": ".py",
   "mimetype": "text/x-python",
   "name": "python",
   "nbconvert_exporter": "python",
   "pygments_lexer": "ipython3",
   "version": "3.6.10"
  },
  "varInspector": {
   "cols": {
    "lenName": 16,
    "lenType": 16,
    "lenVar": 40
   },
   "kernels_config": {
    "python": {
     "delete_cmd_postfix": "",
     "delete_cmd_prefix": "del ",
     "library": "var_list.py",
     "varRefreshCmd": "print(var_dic_list())"
    },
    "r": {
     "delete_cmd_postfix": ") ",
     "delete_cmd_prefix": "rm(",
     "library": "var_list.r",
     "varRefreshCmd": "cat(var_dic_list()) "
    }
   },
   "types_to_exclude": [
    "module",
    "function",
    "builtin_function_or_method",
    "instance",
    "_Feature"
   ],
   "window_display": false
  }
 },
 "nbformat": 4,
 "nbformat_minor": 2
}
