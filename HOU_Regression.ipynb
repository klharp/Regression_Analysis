{
 "cells": [
  {
   "cell_type": "markdown",
   "metadata": {},
   "source": [
    "# Houston, TX Regressions\n",
    "Regressions to compare E+ v9.2 and v9.5 outputs "
   ]
  },
  {
   "cell_type": "code",
   "execution_count": 1,
   "metadata": {},
   "outputs": [],
   "source": [
    "# Dependencies\n",
    "import pandas as pd\n",
    "from matplotlib import pyplot as plt\n",
    "from sklearn import linear_model\n",
    "import numpy as np\n",
    "import statsmodels.api as sm"
   ]
  },
  {
   "cell_type": "markdown",
   "metadata": {},
   "source": [
    "---\n",
    "\n",
    "## Annual Data"
   ]
  },
  {
   "cell_type": "code",
   "execution_count": 2,
   "metadata": {
    "scrolled": true
   },
   "outputs": [],
   "source": [
    "hou_annual95=pd.read_csv(\"data/hou_annual95_data.csv\")\n",
    "# hou_annual95"
   ]
  },
  {
   "cell_type": "code",
   "execution_count": 3,
   "metadata": {},
   "outputs": [],
   "source": [
    "hou_annual92=pd.read_csv(\"data/hou_annual92_data.csv\")\n",
    "# hou_annual92"
   ]
  },
  {
   "cell_type": "markdown",
   "metadata": {},
   "source": [
    "## Merge df with performance attributes"
   ]
  },
  {
   "cell_type": "code",
   "execution_count": 4,
   "metadata": {},
   "outputs": [],
   "source": [
    "# Read in U and SHGC values\n",
    "performance=pd.read_csv(\"data/para_values.csv\")\n",
    "#performance"
   ]
  },
  {
   "cell_type": "code",
   "execution_count": 5,
   "metadata": {},
   "outputs": [],
   "source": [
    "# Merge the csv with the with the window performance attributes\n",
    "hou_annual95_all = pd.merge(hou_annual95, performance, on=\"Scenario\")\n",
    "\n",
    "# hou_annual95_all.set_index([\"Scenario\"], inplace=True)\n",
    "# hou_annual95_all"
   ]
  },
  {
   "cell_type": "code",
   "execution_count": 6,
   "metadata": {},
   "outputs": [],
   "source": [
    "hou_annual92_all = pd.merge(hou_annual92, performance, on=\"Scenario\")\n",
    "\n",
    "# hou_annual92_all.set_index([\"Scenario\"], inplace=True)\n",
    "# hou_annual92_all"
   ]
  },
  {
   "cell_type": "markdown",
   "metadata": {},
   "source": [
    "## Get the energy data"
   ]
  },
  {
   "cell_type": "code",
   "execution_count": 7,
   "metadata": {},
   "outputs": [],
   "source": [
    "# Drop unwanted columns, keep scenario, energy, U and SHGC and reset index\n",
    "hou_annual95_energy = hou_annual95_all[[\"Scenario\", \"AnnualEnergy(kBtu)\", \"AnnualEnergy(kBtu/sf)\", \"U-factor\", \"SHGC\"]]\n",
    "\n",
    "# hou_annual95_cost.set_index([\"Scenario\"], inplace=True)\n",
    "# hou_annual95_energy"
   ]
  },
  {
   "cell_type": "code",
   "execution_count": 8,
   "metadata": {},
   "outputs": [],
   "source": [
    "hou_annual92_energy = hou_annual92_all[[\"Scenario\", \"AnnualEnergy(kBtu)\", \"AnnualEnergy(kBtu/sf)\", \"U-factor\", \"SHGC\"]]\n",
    "\n",
    "# hou_annual95_cost.set_index([\"Scenario\"], inplace=True)\n",
    "# hou_annual92_energy"
   ]
  },
  {
   "cell_type": "markdown",
   "metadata": {},
   "source": [
    "## Get the cost data"
   ]
  },
  {
   "cell_type": "code",
   "execution_count": 9,
   "metadata": {},
   "outputs": [],
   "source": [
    "# Drop unwanted columns, keep scenario, costs, U and SHGC and reset index\n",
    "hou_annual95_cost = hou_annual95_all[[\"Scenario\", \"AnnualCost($)\", \"AnnualCost($/sf)\", \"U-factor\", \"SHGC\"]]\n",
    "\n",
    "# hou_monthly95_cost.set_index([\"Scenario\"], inplace=True)\n",
    "# hou_annual95_cost"
   ]
  },
  {
   "cell_type": "code",
   "execution_count": 10,
   "metadata": {},
   "outputs": [],
   "source": [
    "hou_annual92_cost = hou_annual92_all[[\"Scenario\", \"AnnualCost($)\", \"AnnualCost($/sf)\", \"U-factor\", \"SHGC\"]]\n",
    "\n",
    "# hou_monthly95_cost.set_index([\"Scenario\"], inplace=True)\n",
    "# hou_annual92_cost"
   ]
  },
  {
   "cell_type": "markdown",
   "metadata": {},
   "source": [
    "## Regression Info\n",
    " https://datatofish.com/multiple-linear-regression-python/"
   ]
  },
  {
   "cell_type": "markdown",
   "metadata": {},
   "source": [
    "------\n",
    "\n",
    "## Regression for Annual Energy (kBtu)"
   ]
  },
  {
   "cell_type": "code",
   "execution_count": 18,
   "metadata": {},
   "outputs": [],
   "source": [
    "# Rename df for multiple regressions\n",
    "hou_annual95_EUI = hou_annual95_energy\n",
    "hou_annual92_EUI = hou_annual92_energy"
   ]
  },
  {
   "cell_type": "code",
   "execution_count": 19,
   "metadata": {},
   "outputs": [
    {
     "name": "stdout",
     "output_type": "stream",
     "text": [
      "Intercept: \n",
      " 41705.718775510206\n",
      "Coefficients: \n",
      " [14900.51938776 13372.11071429]\n"
     ]
    }
   ],
   "source": [
    "# Define X and Y\n",
    "X = hou_annual95_EUI[[\"U-factor\", \"SHGC\"]]\n",
    "y = hou_annual95_EUI[\"AnnualEnergy(kBtu)\"]\n",
    "\n",
    "# Use sklearn\n",
    "regr = linear_model.LinearRegression()\n",
    "regr.fit(X,y)\n",
    "\n",
    "print(\"Intercept: \\n\", regr.intercept_)\n",
    "print(\"Coefficients: \\n\", regr.coef_)"
   ]
  },
  {
   "cell_type": "code",
   "execution_count": 20,
   "metadata": {},
   "outputs": [
    {
     "name": "stdout",
     "output_type": "stream",
     "text": [
      "Intercept: \n",
      " 41161.51428571428\n",
      "Coefficients: \n",
      " [15526.80714286 12465.36071429]\n"
     ]
    }
   ],
   "source": [
    "# Define X and Y\n",
    "X = hou_annual92_EUI[[\"U-factor\", \"SHGC\"]]\n",
    "y = hou_annual92_EUI[\"AnnualEnergy(kBtu)\"]\n",
    "\n",
    "# Use sklearn\n",
    "regr = linear_model.LinearRegression()\n",
    "regr.fit(X,y)\n",
    "\n",
    "print(\"Intercept: \\n\", regr.intercept_)\n",
    "print(\"Coefficients: \\n\", regr.coef_)"
   ]
  },
  {
   "cell_type": "markdown",
   "metadata": {},
   "source": [
    "## Regression for Annual EUI (kBtu/sf)"
   ]
  },
  {
   "cell_type": "code",
   "execution_count": 23,
   "metadata": {},
   "outputs": [],
   "source": [
    "# Rename df for multiple regressions\n",
    "hou_annual95_EUIsf = hou_annual95_energy\n",
    "hou_annual92_EUIsf = hou_annual92_energy"
   ]
  },
  {
   "cell_type": "code",
   "execution_count": 26,
   "metadata": {},
   "outputs": [
    {
     "name": "stdout",
     "output_type": "stream",
     "text": [
      "Intercept: \n",
      " 17.376122448979594\n",
      "Coefficients: \n",
      " [6.20969388 5.57397959]\n"
     ]
    }
   ],
   "source": [
    "# Define X and Y\n",
    "X = hou_annual95_EUIsf[[\"U-factor\", \"SHGC\"]]\n",
    "y = hou_annual95_EUIsf[\"AnnualEnergy(kBtu/sf)\"]\n",
    "\n",
    "# Use sklearn\n",
    "regr = linear_model.LinearRegression()\n",
    "regr.fit(X,y)\n",
    "\n",
    "print(\"Intercept: \\n\", regr.intercept_)\n",
    "print(\"Coefficients: \\n\", regr.coef_)"
   ]
  },
  {
   "cell_type": "code",
   "execution_count": 27,
   "metadata": {},
   "outputs": [
    {
     "name": "stdout",
     "output_type": "stream",
     "text": [
      "Intercept: \n",
      " 17.153469387755102\n",
      "Coefficients: \n",
      " [6.46683673 5.19030612]\n"
     ]
    }
   ],
   "source": [
    "# Define X and Y\n",
    "X = hou_annual92_EUIsf[[\"U-factor\", \"SHGC\"]]\n",
    "y = hou_annual92_EUIsf[\"AnnualEnergy(kBtu/sf)\"]\n",
    "\n",
    "# Use sklearn\n",
    "regr = linear_model.LinearRegression()\n",
    "regr.fit(X,y)\n",
    "\n",
    "print(\"Intercept: \\n\", regr.intercept_)\n",
    "print(\"Coefficients: \\n\", regr.coef_)"
   ]
  },
  {
   "cell_type": "markdown",
   "metadata": {},
   "source": [
    "------\n",
    "\n",
    "## Regression for Annual Cost( $)"
   ]
  },
  {
   "cell_type": "code",
   "execution_count": 28,
   "metadata": {},
   "outputs": [],
   "source": [
    "# Rename df for multiple regressions\n",
    "hou_annual95_EUIcost = hou_annual95_cost\n",
    "hou_annual92_EUIcost = hou_annual92_cost"
   ]
  },
  {
   "cell_type": "code",
   "execution_count": 30,
   "metadata": {},
   "outputs": [
    {
     "name": "stdout",
     "output_type": "stream",
     "text": [
      "Intercept: \n",
      " 974.4314285714286\n",
      "Coefficients: \n",
      " [180.44132653 619.40204082]\n"
     ]
    }
   ],
   "source": [
    "# Define X and Y\n",
    "X = hou_annual95_EUIcost[[\"U-factor\", \"SHGC\"]]\n",
    "y = hou_annual95_EUIcost[\"AnnualCost($)\"]\n",
    "\n",
    "# Use sklearn\n",
    "regr = linear_model.LinearRegression()\n",
    "regr.fit(X,y)\n",
    "\n",
    "print(\"Intercept: \\n\", regr.intercept_)\n",
    "print(\"Coefficients: \\n\", regr.coef_)"
   ]
  },
  {
   "cell_type": "code",
   "execution_count": 31,
   "metadata": {},
   "outputs": [
    {
     "name": "stdout",
     "output_type": "stream",
     "text": [
      "Intercept: \n",
      " 948.2997959183672\n",
      "Coefficients: \n",
      " [202.84336735 592.04336735]\n"
     ]
    }
   ],
   "source": [
    "# Define X and Y\n",
    "X = hou_annual92_EUIcost[[\"U-factor\", \"SHGC\"]]\n",
    "y = hou_annual92_EUIcost[\"AnnualCost($)\"]\n",
    "\n",
    "# Use sklearn\n",
    "regr = linear_model.LinearRegression()\n",
    "regr.fit(X,y)\n",
    "\n",
    "print(\"Intercept: \\n\", regr.intercept_)\n",
    "print(\"Coefficients: \\n\", regr.coef_)"
   ]
  },
  {
   "cell_type": "markdown",
   "metadata": {},
   "source": [
    "## Regression for Annual Cost ($/sf)"
   ]
  },
  {
   "cell_type": "code",
   "execution_count": 32,
   "metadata": {},
   "outputs": [],
   "source": [
    "# Rename df for multiple regressions\n",
    "hou_annual95_EUIcostsf =hou_annual95_cost\n",
    "hou_annual92_EUIcostsf =hou_annual92_cost"
   ]
  },
  {
   "cell_type": "code",
   "execution_count": 33,
   "metadata": {},
   "outputs": [
    {
     "name": "stdout",
     "output_type": "stream",
     "text": [
      "Intercept: \n",
      " 0.40591836734693876\n",
      "Coefficients: \n",
      " [0.07397959 0.25867347]\n"
     ]
    }
   ],
   "source": [
    "# Define X and Y\n",
    "X = hou_annual95_EUIcostsf[[\"U-factor\", \"SHGC\"]]\n",
    "y = hou_annual95_EUIcostsf[\"AnnualCost($/sf)\"]\n",
    "\n",
    "# Use sklearn\n",
    "regr = linear_model.LinearRegression()\n",
    "regr.fit(X,y)\n",
    "\n",
    "print(\"Intercept: \\n\", regr.intercept_)\n",
    "print(\"Coefficients: \\n\", regr.coef_)"
   ]
  },
  {
   "cell_type": "code",
   "execution_count": 34,
   "metadata": {},
   "outputs": [
    {
     "name": "stdout",
     "output_type": "stream",
     "text": [
      "Intercept: \n",
      " 0.3961224489795918\n",
      "Coefficients: \n",
      " [0.08571429 0.24234694]\n"
     ]
    }
   ],
   "source": [
    "# Define X and Y\n",
    "X = hou_annual92_EUIcostsf[[\"U-factor\", \"SHGC\"]]\n",
    "y = hou_annual92_EUIcostsf[\"AnnualCost($/sf)\"]\n",
    "\n",
    "# Use sklearn\n",
    "regr = linear_model.LinearRegression()\n",
    "regr.fit(X,y)\n",
    "\n",
    "print(\"Intercept: \\n\", regr.intercept_)\n",
    "print(\"Coefficients: \\n\", regr.coef_)"
   ]
  },
  {
   "cell_type": "code",
   "execution_count": null,
   "metadata": {},
   "outputs": [],
   "source": []
  }
 ],
 "metadata": {
  "kernelspec": {
   "display_name": "Python 3",
   "language": "python",
   "name": "python3"
  },
  "language_info": {
   "codemirror_mode": {
    "name": "ipython",
    "version": 3
   },
   "file_extension": ".py",
   "mimetype": "text/x-python",
   "name": "python",
   "nbconvert_exporter": "python",
   "pygments_lexer": "ipython3",
   "version": "3.6.10"
  },
  "varInspector": {
   "cols": {
    "lenName": 16,
    "lenType": 16,
    "lenVar": 40
   },
   "kernels_config": {
    "python": {
     "delete_cmd_postfix": "",
     "delete_cmd_prefix": "del ",
     "library": "var_list.py",
     "varRefreshCmd": "print(var_dic_list())"
    },
    "r": {
     "delete_cmd_postfix": ") ",
     "delete_cmd_prefix": "rm(",
     "library": "var_list.r",
     "varRefreshCmd": "cat(var_dic_list()) "
    }
   },
   "types_to_exclude": [
    "module",
    "function",
    "builtin_function_or_method",
    "instance",
    "_Feature"
   ],
   "window_display": false
  }
 },
 "nbformat": 4,
 "nbformat_minor": 2
}
